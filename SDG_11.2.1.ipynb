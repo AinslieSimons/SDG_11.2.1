{
 "cells": [
  {
   "cell_type": "code",
   "execution_count": 2,
   "metadata": {},
   "outputs": [],
   "source": [
    "import pandas as pd\n",
    "import geopandas as gpd\n",
    "import os\n",
    "import matplotlib as plt\n",
    "from shapely.geometry import Point"
   ]
  },
  {
   "cell_type": "code",
   "execution_count": 3,
   "metadata": {},
   "outputs": [],
   "source": [
    "datapath = r'/home/james/Documents/SDG_11.2.1/data'"
   ]
  },
  {
   "cell_type": "code",
   "execution_count": 4,
   "metadata": {},
   "outputs": [
    {
     "data": {
      "text/html": [
       "<div>\n",
       "<style scoped>\n",
       "    .dataframe tbody tr th:only-of-type {\n",
       "        vertical-align: middle;\n",
       "    }\n",
       "\n",
       "    .dataframe tbody tr th {\n",
       "        vertical-align: top;\n",
       "    }\n",
       "\n",
       "    .dataframe thead th {\n",
       "        text-align: right;\n",
       "    }\n",
       "</style>\n",
       "<table border=\"1\" class=\"dataframe\">\n",
       "  <thead>\n",
       "    <tr style=\"text-align: right;\">\n",
       "      <th></th>\n",
       "      <th>stop_id</th>\n",
       "      <th>stop_code</th>\n",
       "      <th>stop_name</th>\n",
       "      <th>stop_lat</th>\n",
       "      <th>stop_lon</th>\n",
       "      <th>stop_url</th>\n",
       "      <th>vehicle_type</th>\n",
       "    </tr>\n",
       "  </thead>\n",
       "  <tbody>\n",
       "    <tr>\n",
       "      <th>362667</th>\n",
       "      <td>6400PT1464</td>\n",
       "      <td>36325395</td>\n",
       "      <td>West Ferry/Broughty Ferry, Dunnotar Place (at)</td>\n",
       "      <td>56.47224</td>\n",
       "      <td>-2.90086</td>\n",
       "      <td>NaN</td>\n",
       "      <td>3.0</td>\n",
       "    </tr>\n",
       "    <tr>\n",
       "      <th>358139</th>\n",
       "      <td>630031231</td>\n",
       "      <td>23626763</td>\n",
       "      <td>Ellon, Raeburn Place (at)</td>\n",
       "      <td>57.37156</td>\n",
       "      <td>-2.08661</td>\n",
       "      <td>NaN</td>\n",
       "      <td>3.0</td>\n",
       "    </tr>\n",
       "    <tr>\n",
       "      <th>59201</th>\n",
       "      <td>1180PLA88888</td>\n",
       "      <td>plypgdg</td>\n",
       "      <td>Plymouth City Centre, Royal Parade Dummy (E-bo...</td>\n",
       "      <td>50.37067</td>\n",
       "      <td>-4.14242</td>\n",
       "      <td>NaN</td>\n",
       "      <td>3.0</td>\n",
       "    </tr>\n",
       "    <tr>\n",
       "      <th>188282</th>\n",
       "      <td>3200YNE02020</td>\n",
       "      <td>32002020</td>\n",
       "      <td>Pickering, Westlands Mayfield (S-bound)</td>\n",
       "      <td>54.24969</td>\n",
       "      <td>-0.77199</td>\n",
       "      <td>NaN</td>\n",
       "      <td>3.0</td>\n",
       "    </tr>\n",
       "    <tr>\n",
       "      <th>226282</th>\n",
       "      <td>390030122</td>\n",
       "      <td>sufamdtw</td>\n",
       "      <td>Ipswich, Station Hotel (adj)</td>\n",
       "      <td>52.05082</td>\n",
       "      <td>1.14583</td>\n",
       "      <td>NaN</td>\n",
       "      <td>3.0</td>\n",
       "    </tr>\n",
       "    <tr>\n",
       "      <th>69993</th>\n",
       "      <td>13006856A</td>\n",
       "      <td>durdtmam</td>\n",
       "      <td>Aycliffe Industrial Estate, Moores Factory (N-...</td>\n",
       "      <td>54.60154</td>\n",
       "      <td>-1.57102</td>\n",
       "      <td>NaN</td>\n",
       "      <td>3.0</td>\n",
       "    </tr>\n",
       "    <tr>\n",
       "      <th>220855</th>\n",
       "      <td>3800C420401</td>\n",
       "      <td>stadpdgt</td>\n",
       "      <td>Little Aston, Woodside Drive (Opp)</td>\n",
       "      <td>52.60031</td>\n",
       "      <td>-1.86102</td>\n",
       "      <td>NaN</td>\n",
       "      <td>3.0</td>\n",
       "    </tr>\n",
       "    <tr>\n",
       "      <th>334014</th>\n",
       "      <td>5810WDB48050</td>\n",
       "      <td>swatjpm</td>\n",
       "      <td>Cwmrhydyceirw, Heol-y-Deri</td>\n",
       "      <td>51.67740</td>\n",
       "      <td>-3.92467</td>\n",
       "      <td>NaN</td>\n",
       "      <td>3.0</td>\n",
       "    </tr>\n",
       "    <tr>\n",
       "      <th>198384</th>\n",
       "      <td>340000130SAX</td>\n",
       "      <td>oxfampap</td>\n",
       "      <td>Caldecott, Wilsham Road (N-bound)</td>\n",
       "      <td>51.66341</td>\n",
       "      <td>-1.28336</td>\n",
       "      <td>NaN</td>\n",
       "      <td>3.0</td>\n",
       "    </tr>\n",
       "    <tr>\n",
       "      <th>70760</th>\n",
       "      <td>1400CTNG1</td>\n",
       "      <td>NaN</td>\n",
       "      <td>Collington, Collington Rail Station (Entrance)</td>\n",
       "      <td>50.83977</td>\n",
       "      <td>0.45780</td>\n",
       "      <td>NaN</td>\n",
       "      <td>NaN</td>\n",
       "    </tr>\n",
       "    <tr>\n",
       "      <th>92401</th>\n",
       "      <td>1800ED16501</td>\n",
       "      <td>MANAPMGA</td>\n",
       "      <td>High Crompton, Rochdale Rd/The Orchards (nr)</td>\n",
       "      <td>53.58097</td>\n",
       "      <td>-2.10762</td>\n",
       "      <td>NaN</td>\n",
       "      <td>3.0</td>\n",
       "    </tr>\n",
       "    <tr>\n",
       "      <th>360557</th>\n",
       "      <td>639000841</td>\n",
       "      <td>23234979</td>\n",
       "      <td>Sheddocksley, Benbecula Road (at)</td>\n",
       "      <td>57.15354</td>\n",
       "      <td>-2.18243</td>\n",
       "      <td>NaN</td>\n",
       "      <td>3.0</td>\n",
       "    </tr>\n",
       "    <tr>\n",
       "      <th>333640</th>\n",
       "      <td>5810AWC52236</td>\n",
       "      <td>swapaga</td>\n",
       "      <td>Peniel Green, Church</td>\n",
       "      <td>51.66159</td>\n",
       "      <td>-3.88848</td>\n",
       "      <td>NaN</td>\n",
       "      <td>3.0</td>\n",
       "    </tr>\n",
       "    <tr>\n",
       "      <th>64471</th>\n",
       "      <td>1280POA11580</td>\n",
       "      <td>plejawd</td>\n",
       "      <td>Branksome, Yarmouth Road (NW-bound)</td>\n",
       "      <td>50.73166</td>\n",
       "      <td>-1.91748</td>\n",
       "      <td>NaN</td>\n",
       "      <td>3.0</td>\n",
       "    </tr>\n",
       "    <tr>\n",
       "      <th>140068</th>\n",
       "      <td>2400A044970A</td>\n",
       "      <td>kntdwdpj</td>\n",
       "      <td>Kingsgate, Rosetower Court (opp)</td>\n",
       "      <td>51.37647</td>\n",
       "      <td>1.43188</td>\n",
       "      <td>NaN</td>\n",
       "      <td>3.0</td>\n",
       "    </tr>\n",
       "  </tbody>\n",
       "</table>\n",
       "</div>"
      ],
      "text/plain": [
       "             stop_id stop_code  \\\n",
       "362667    6400PT1464  36325395   \n",
       "358139     630031231  23626763   \n",
       "59201   1180PLA88888   plypgdg   \n",
       "188282  3200YNE02020  32002020   \n",
       "226282     390030122  sufamdtw   \n",
       "69993      13006856A  durdtmam   \n",
       "220855   3800C420401  stadpdgt   \n",
       "334014  5810WDB48050   swatjpm   \n",
       "198384  340000130SAX  oxfampap   \n",
       "70760      1400CTNG1       NaN   \n",
       "92401    1800ED16501  MANAPMGA   \n",
       "360557     639000841  23234979   \n",
       "333640  5810AWC52236   swapaga   \n",
       "64471   1280POA11580   plejawd   \n",
       "140068  2400A044970A  kntdwdpj   \n",
       "\n",
       "                                                stop_name  stop_lat  stop_lon  \\\n",
       "362667     West Ferry/Broughty Ferry, Dunnotar Place (at)  56.47224  -2.90086   \n",
       "358139                          Ellon, Raeburn Place (at)  57.37156  -2.08661   \n",
       "59201   Plymouth City Centre, Royal Parade Dummy (E-bo...  50.37067  -4.14242   \n",
       "188282            Pickering, Westlands Mayfield (S-bound)  54.24969  -0.77199   \n",
       "226282                       Ipswich, Station Hotel (adj)  52.05082   1.14583   \n",
       "69993   Aycliffe Industrial Estate, Moores Factory (N-...  54.60154  -1.57102   \n",
       "220855                 Little Aston, Woodside Drive (Opp)  52.60031  -1.86102   \n",
       "334014                         Cwmrhydyceirw, Heol-y-Deri  51.67740  -3.92467   \n",
       "198384                  Caldecott, Wilsham Road (N-bound)  51.66341  -1.28336   \n",
       "70760      Collington, Collington Rail Station (Entrance)  50.83977   0.45780   \n",
       "92401        High Crompton, Rochdale Rd/The Orchards (nr)  53.58097  -2.10762   \n",
       "360557                  Sheddocksley, Benbecula Road (at)  57.15354  -2.18243   \n",
       "333640                               Peniel Green, Church  51.66159  -3.88848   \n",
       "64471                 Branksome, Yarmouth Road (NW-bound)  50.73166  -1.91748   \n",
       "140068                   Kingsgate, Rosetower Court (opp)  51.37647   1.43188   \n",
       "\n",
       "        stop_url  vehicle_type  \n",
       "362667       NaN           3.0  \n",
       "358139       NaN           3.0  \n",
       "59201        NaN           3.0  \n",
       "188282       NaN           3.0  \n",
       "226282       NaN           3.0  \n",
       "69993        NaN           3.0  \n",
       "220855       NaN           3.0  \n",
       "334014       NaN           3.0  \n",
       "198384       NaN           3.0  \n",
       "70760        NaN           NaN  \n",
       "92401        NaN           3.0  \n",
       "360557       NaN           3.0  \n",
       "333640       NaN           3.0  \n",
       "64471        NaN           3.0  \n",
       "140068       NaN           3.0  "
      ]
     },
     "execution_count": 4,
     "metadata": {},
     "output_type": "execute_result"
    }
   ],
   "source": [
    "stops_df = pd.read_csv(os.path.join(datapath,'Stops.txt'), delimiter='\\t')\n",
    "stops_df.sample(15)\n"
   ]
  },
  {
   "cell_type": "code",
   "execution_count": 5,
   "metadata": {},
   "outputs": [],
   "source": [
    "\n",
    "def make_geo_df(df,col_x, col_y):\n",
    "    crs = 'wsg84'\n",
    "    geometry = [Point(xy) for xy in zip(df[col_x], df[col_y])]\n",
    "    geo_df = gpd.GeoDataFrame(df, crs=crs, geometry=geometry)\n",
    "    return geo_df"
   ]
  },
  {
   "cell_type": "code",
   "execution_count": 6,
   "metadata": {
    "jupyter": {
     "source_hidden": true
    }
   },
   "outputs": [],
   "source": [
    "stops_geo_df = make_geo_df(stops_df,'stop_lat','stop_lon')"
   ]
  },
  {
   "cell_type": "code",
   "execution_count": 7,
   "metadata": {},
   "outputs": [
    {
     "data": {
      "text/html": [
       "<div>\n",
       "<style scoped>\n",
       "    .dataframe tbody tr th:only-of-type {\n",
       "        vertical-align: middle;\n",
       "    }\n",
       "\n",
       "    .dataframe tbody tr th {\n",
       "        vertical-align: top;\n",
       "    }\n",
       "\n",
       "    .dataframe thead th {\n",
       "        text-align: right;\n",
       "    }\n",
       "</style>\n",
       "<table border=\"1\" class=\"dataframe\">\n",
       "  <thead>\n",
       "    <tr style=\"text-align: right;\">\n",
       "      <th></th>\n",
       "      <th>stop_id</th>\n",
       "      <th>stop_code</th>\n",
       "      <th>stop_name</th>\n",
       "      <th>stop_lat</th>\n",
       "      <th>stop_lon</th>\n",
       "      <th>stop_url</th>\n",
       "      <th>vehicle_type</th>\n",
       "      <th>geometry</th>\n",
       "    </tr>\n",
       "  </thead>\n",
       "  <tbody>\n",
       "    <tr>\n",
       "      <th>163254</th>\n",
       "      <td>2700LHO00956</td>\n",
       "      <td>linagtgj</td>\n",
       "      <td>Harlaxton, Trotter's Lane (opp)</td>\n",
       "      <td>52.88437</td>\n",
       "      <td>-0.68683</td>\n",
       "      <td>NaN</td>\n",
       "      <td>3.0</td>\n",
       "      <td>POINT (52.88437 -0.68683)</td>\n",
       "    </tr>\n",
       "    <tr>\n",
       "      <th>13453</th>\n",
       "      <td>039025960001</td>\n",
       "      <td>rdgapjp</td>\n",
       "      <td>Caversham Park Village, Earlsfield Close (opp 6b)</td>\n",
       "      <td>51.47692</td>\n",
       "      <td>-0.94606</td>\n",
       "      <td>NaN</td>\n",
       "      <td>3.0</td>\n",
       "      <td>POINT (51.47692 -0.94606)</td>\n",
       "    </tr>\n",
       "    <tr>\n",
       "      <th>246019</th>\n",
       "      <td>4200F033300</td>\n",
       "      <td>warapjdp</td>\n",
       "      <td>Kingsbury, Mill Crescent (Nr)</td>\n",
       "      <td>52.56006</td>\n",
       "      <td>-1.68216</td>\n",
       "      <td>NaN</td>\n",
       "      <td>3.0</td>\n",
       "      <td>POINT (52.56006 -1.68216)</td>\n",
       "    </tr>\n",
       "    <tr>\n",
       "      <th>237344</th>\n",
       "      <td>40004411264B</td>\n",
       "      <td>surdwgja</td>\n",
       "      <td>Charterhouse, Stag Hill Motors (adj)</td>\n",
       "      <td>51.20074</td>\n",
       "      <td>-0.63091</td>\n",
       "      <td>NaN</td>\n",
       "      <td>3.0</td>\n",
       "      <td>POINT (51.20074 -0.63091)</td>\n",
       "    </tr>\n",
       "    <tr>\n",
       "      <th>330190</th>\n",
       "      <td>5710AWA11027</td>\n",
       "      <td>cdijwtd</td>\n",
       "      <td>Pantmawr, Rhiwbina Hill</td>\n",
       "      <td>51.53076</td>\n",
       "      <td>-3.22391</td>\n",
       "      <td>NaN</td>\n",
       "      <td>3.0</td>\n",
       "      <td>POINT (51.53076 -3.22391)</td>\n",
       "    </tr>\n",
       "    <tr>\n",
       "      <th>1074</th>\n",
       "      <td>0100BRA10617</td>\n",
       "      <td>bstajwj</td>\n",
       "      <td>Sea Mills, Sea Mills Square (Stop b)</td>\n",
       "      <td>51.48790</td>\n",
       "      <td>-2.64754</td>\n",
       "      <td>NaN</td>\n",
       "      <td>3.0</td>\n",
       "      <td>POINT (51.48790 -2.64754)</td>\n",
       "    </tr>\n",
       "    <tr>\n",
       "      <th>147414</th>\n",
       "      <td>2500IMG2839</td>\n",
       "      <td>langjdag</td>\n",
       "      <td>Stoops Estate, Laburnum Close (opp)</td>\n",
       "      <td>53.77975</td>\n",
       "      <td>-2.26328</td>\n",
       "      <td>NaN</td>\n",
       "      <td>3.0</td>\n",
       "      <td>POINT (53.77975 -2.26328)</td>\n",
       "    </tr>\n",
       "    <tr>\n",
       "      <th>157209</th>\n",
       "      <td>269032059</td>\n",
       "      <td>lecdpgta</td>\n",
       "      <td>Beaumont Leys, Baxters Close (adj)</td>\n",
       "      <td>52.65874</td>\n",
       "      <td>-1.16088</td>\n",
       "      <td>NaN</td>\n",
       "      <td>3.0</td>\n",
       "      <td>POINT (52.65874 -1.16088)</td>\n",
       "    </tr>\n",
       "    <tr>\n",
       "      <th>350333</th>\n",
       "      <td>61701082</td>\n",
       "      <td>62927238</td>\n",
       "      <td>Dalry, Vennal Street (before)</td>\n",
       "      <td>55.70582</td>\n",
       "      <td>-4.72611</td>\n",
       "      <td>NaN</td>\n",
       "      <td>3.0</td>\n",
       "      <td>POINT (55.70582 -4.72611)</td>\n",
       "    </tr>\n",
       "    <tr>\n",
       "      <th>208924</th>\n",
       "      <td>3600SOB20061</td>\n",
       "      <td>sotadatp</td>\n",
       "      <td>Allerford, Stoates Farm (SE-bound)</td>\n",
       "      <td>51.21252</td>\n",
       "      <td>-3.57109</td>\n",
       "      <td>NaN</td>\n",
       "      <td>3.0</td>\n",
       "      <td>POINT (51.21252 -3.57109)</td>\n",
       "    </tr>\n",
       "  </tbody>\n",
       "</table>\n",
       "</div>"
      ],
      "text/plain": [
       "             stop_id stop_code  \\\n",
       "163254  2700LHO00956  linagtgj   \n",
       "13453   039025960001   rdgapjp   \n",
       "246019   4200F033300  warapjdp   \n",
       "237344  40004411264B  surdwgja   \n",
       "330190  5710AWA11027   cdijwtd   \n",
       "1074    0100BRA10617   bstajwj   \n",
       "147414   2500IMG2839  langjdag   \n",
       "157209     269032059  lecdpgta   \n",
       "350333      61701082  62927238   \n",
       "208924  3600SOB20061  sotadatp   \n",
       "\n",
       "                                                stop_name  stop_lat  stop_lon  \\\n",
       "163254                    Harlaxton, Trotter's Lane (opp)  52.88437  -0.68683   \n",
       "13453   Caversham Park Village, Earlsfield Close (opp 6b)  51.47692  -0.94606   \n",
       "246019                      Kingsbury, Mill Crescent (Nr)  52.56006  -1.68216   \n",
       "237344               Charterhouse, Stag Hill Motors (adj)  51.20074  -0.63091   \n",
       "330190                            Pantmawr, Rhiwbina Hill  51.53076  -3.22391   \n",
       "1074                 Sea Mills, Sea Mills Square (Stop b)  51.48790  -2.64754   \n",
       "147414                Stoops Estate, Laburnum Close (opp)  53.77975  -2.26328   \n",
       "157209                 Beaumont Leys, Baxters Close (adj)  52.65874  -1.16088   \n",
       "350333                      Dalry, Vennal Street (before)  55.70582  -4.72611   \n",
       "208924                 Allerford, Stoates Farm (SE-bound)  51.21252  -3.57109   \n",
       "\n",
       "        stop_url  vehicle_type                   geometry  \n",
       "163254       NaN           3.0  POINT (52.88437 -0.68683)  \n",
       "13453        NaN           3.0  POINT (51.47692 -0.94606)  \n",
       "246019       NaN           3.0  POINT (52.56006 -1.68216)  \n",
       "237344       NaN           3.0  POINT (51.20074 -0.63091)  \n",
       "330190       NaN           3.0  POINT (51.53076 -3.22391)  \n",
       "1074         NaN           3.0  POINT (51.48790 -2.64754)  \n",
       "147414       NaN           3.0  POINT (53.77975 -2.26328)  \n",
       "157209       NaN           3.0  POINT (52.65874 -1.16088)  \n",
       "350333       NaN           3.0  POINT (55.70582 -4.72611)  \n",
       "208924       NaN           3.0  POINT (51.21252 -3.57109)  "
      ]
     },
     "execution_count": 7,
     "metadata": {},
     "output_type": "execute_result"
    }
   ],
   "source": [
    "stops_geo_df.sample(10)"
   ]
  },
  {
   "cell_type": "code",
   "execution_count": 8,
   "metadata": {},
   "outputs": [],
   "source": [
    "# Building the map of london\n",
    "\n",
    "map_data_path = '/home/james/Documents/SDG_11.2.1/data/Statistical-GIS-boundaries-london/statistical-gis-boundaries-london/ESRI'\n",
    "\n",
    "map_df = gpd.read_file(os.path.join(map_data_path,'London_Borough_Excluding_MHW.shp'))\n",
    "\n",
    "# OA_2011_London_gen_MHW.shp'"
   ]
  },
  {
   "cell_type": "code",
   "execution_count": 9,
   "metadata": {},
   "outputs": [
    {
     "data": {
      "text/html": [
       "<div>\n",
       "<style scoped>\n",
       "    .dataframe tbody tr th:only-of-type {\n",
       "        vertical-align: middle;\n",
       "    }\n",
       "\n",
       "    .dataframe tbody tr th {\n",
       "        vertical-align: top;\n",
       "    }\n",
       "\n",
       "    .dataframe thead th {\n",
       "        text-align: right;\n",
       "    }\n",
       "</style>\n",
       "<table border=\"1\" class=\"dataframe\">\n",
       "  <thead>\n",
       "    <tr style=\"text-align: right;\">\n",
       "      <th></th>\n",
       "      <th>NAME</th>\n",
       "      <th>GSS_CODE</th>\n",
       "      <th>HECTARES</th>\n",
       "      <th>NONLD_AREA</th>\n",
       "      <th>ONS_INNER</th>\n",
       "      <th>SUB_2009</th>\n",
       "      <th>SUB_2006</th>\n",
       "      <th>geometry</th>\n",
       "    </tr>\n",
       "  </thead>\n",
       "  <tbody>\n",
       "    <tr>\n",
       "      <th>0</th>\n",
       "      <td>Kingston upon Thames</td>\n",
       "      <td>E09000021</td>\n",
       "      <td>3726.117</td>\n",
       "      <td>0.000</td>\n",
       "      <td>F</td>\n",
       "      <td>None</td>\n",
       "      <td>None</td>\n",
       "      <td>POLYGON ((516401.600 160201.800, 516407.300 16...</td>\n",
       "    </tr>\n",
       "    <tr>\n",
       "      <th>1</th>\n",
       "      <td>Croydon</td>\n",
       "      <td>E09000008</td>\n",
       "      <td>8649.441</td>\n",
       "      <td>0.000</td>\n",
       "      <td>F</td>\n",
       "      <td>None</td>\n",
       "      <td>None</td>\n",
       "      <td>POLYGON ((535009.200 159504.700, 535005.500 15...</td>\n",
       "    </tr>\n",
       "    <tr>\n",
       "      <th>2</th>\n",
       "      <td>Bromley</td>\n",
       "      <td>E09000006</td>\n",
       "      <td>15013.487</td>\n",
       "      <td>0.000</td>\n",
       "      <td>F</td>\n",
       "      <td>None</td>\n",
       "      <td>None</td>\n",
       "      <td>POLYGON ((540373.600 157530.400, 540361.200 15...</td>\n",
       "    </tr>\n",
       "    <tr>\n",
       "      <th>3</th>\n",
       "      <td>Hounslow</td>\n",
       "      <td>E09000018</td>\n",
       "      <td>5658.541</td>\n",
       "      <td>60.755</td>\n",
       "      <td>F</td>\n",
       "      <td>None</td>\n",
       "      <td>None</td>\n",
       "      <td>POLYGON ((521975.800 178100.000, 521967.700 17...</td>\n",
       "    </tr>\n",
       "    <tr>\n",
       "      <th>4</th>\n",
       "      <td>Ealing</td>\n",
       "      <td>E09000009</td>\n",
       "      <td>5554.428</td>\n",
       "      <td>0.000</td>\n",
       "      <td>F</td>\n",
       "      <td>None</td>\n",
       "      <td>None</td>\n",
       "      <td>POLYGON ((510253.500 182881.600, 510249.900 18...</td>\n",
       "    </tr>\n",
       "  </tbody>\n",
       "</table>\n",
       "</div>"
      ],
      "text/plain": [
       "                   NAME   GSS_CODE   HECTARES  NONLD_AREA ONS_INNER SUB_2009  \\\n",
       "0  Kingston upon Thames  E09000021   3726.117       0.000         F     None   \n",
       "1               Croydon  E09000008   8649.441       0.000         F     None   \n",
       "2               Bromley  E09000006  15013.487       0.000         F     None   \n",
       "3              Hounslow  E09000018   5658.541      60.755         F     None   \n",
       "4                Ealing  E09000009   5554.428       0.000         F     None   \n",
       "\n",
       "  SUB_2006                                           geometry  \n",
       "0     None  POLYGON ((516401.600 160201.800, 516407.300 16...  \n",
       "1     None  POLYGON ((535009.200 159504.700, 535005.500 15...  \n",
       "2     None  POLYGON ((540373.600 157530.400, 540361.200 15...  \n",
       "3     None  POLYGON ((521975.800 178100.000, 521967.700 17...  \n",
       "4     None  POLYGON ((510253.500 182881.600, 510249.900 18...  "
      ]
     },
     "execution_count": 9,
     "metadata": {},
     "output_type": "execute_result"
    }
   ],
   "source": [
    "map_df.head()"
   ]
  },
  {
   "cell_type": "code",
   "execution_count": 15,
   "metadata": {},
   "outputs": [],
   "source": [
    "map_df.to_crs(epsg=27700)\n",
    "stops_geo_df.crs = 'epsg:27700'\n",
    "\n",
    "# epsg:27700\n"
   ]
  },
  {
   "cell_type": "code",
   "execution_count": 16,
   "metadata": {},
   "outputs": [
    {
     "data": {
      "text/plain": [
       "{'init': 'epsg:27700'}"
      ]
     },
     "execution_count": 16,
     "metadata": {},
     "output_type": "execute_result"
    }
   ],
   "source": [
    "map_df.crs"
   ]
  },
  {
   "cell_type": "code",
   "execution_count": 17,
   "metadata": {},
   "outputs": [
    {
     "data": {
      "text/plain": [
       "'epsg:27700'"
      ]
     },
     "execution_count": 17,
     "metadata": {},
     "output_type": "execute_result"
    }
   ],
   "source": [
    "stops_geo_df.crs"
   ]
  },
  {
   "cell_type": "code",
   "execution_count": 18,
   "metadata": {},
   "outputs": [],
   "source": [
    "# Wandsworth_034B_df = map_df[map_df['LSOA11NM']=='Wandsworth 034B']"
   ]
  },
  {
   "cell_type": "code",
   "execution_count": 19,
   "metadata": {},
   "outputs": [
    {
     "data": {
      "text/plain": [
       "0    POLYGON ((516401.600 160201.800, 516407.300 16...\n",
       "Name: geometry, dtype: geometry"
      ]
     },
     "execution_count": 19,
     "metadata": {},
     "output_type": "execute_result"
    }
   ],
   "source": [
    "k_u_thames = map_df[map_df['NAME']=='Kingston upon Thames']\n",
    "k_u_thames.geometry"
   ]
  },
  {
   "cell_type": "code",
   "execution_count": 20,
   "metadata": {},
   "outputs": [
    {
     "data": {
      "text/plain": [
       "<matplotlib.axes._subplots.AxesSubplot at 0x7fac3e317df0>"
      ]
     },
     "execution_count": 20,
     "metadata": {},
     "output_type": "execute_result"
    },
    {
     "data": {
      "image/png": "[encoded data removed]",
      "text/plain": [
       "<Figure size 432x288 with 1 Axes>"
      ]
     },
     "metadata": {
      "needs_background": "light"
     },
     "output_type": "display_data"
    }
   ],
   "source": [
    "map_df.plot()"
   ]
  },
  {
   "cell_type": "code",
   "execution_count": 21,
   "metadata": {},
   "outputs": [
    {
     "data": {
      "image/png": "[encoded data removed]",
      "text/plain": [
       "<Figure size 432x288 with 1 Axes>"
      ]
     },
     "metadata": {
      "needs_background": "light"
     },
     "output_type": "display_data"
    }
   ],
   "source": [
    "fig, ax = plt.pyplot.subplots()\n",
    "\n",
    "# _ = Wandsworth_034B_df.plot(ax=ax, facecolor='red')\n",
    "_ = map_df.plot(ax=ax, facecolor='blue')\n",
    "_ = k_u_thames.plot(ax=ax, facecolor='red')\n",
    "_ = stops_geo_df.plot(ax=ax)\n"
   ]
  },
  {
   "cell_type": "code",
   "execution_count": 22,
   "metadata": {},
   "outputs": [
    {
     "data": {
      "image/png": "[encoded data removed]",
      "text/plain": [
       "<Figure size 432x288 with 1 Axes>"
      ]
     },
     "metadata": {
      "needs_background": "light"
     },
     "output_type": "display_data"
    }
   ],
   "source": [
    "_ = k_u_thames.plot(facecolor='red')"
   ]
  },
  {
   "cell_type": "code",
   "execution_count": 23,
   "metadata": {},
   "outputs": [
    {
     "data": {
      "image/png": "[encoded data removed]",
      "text/plain": [
       "<Figure size 432x288 with 1 Axes>"
      ]
     },
     "metadata": {
      "needs_background": "light"
     },
     "output_type": "display_data"
    }
   ],
   "source": [
    "_ = stops_geo_df.plot()"
   ]
  },
  {
   "cell_type": "code",
   "execution_count": null,
   "metadata": {},
   "outputs": [],
   "source": []
  }
 ],
 "metadata": {
  "kernelspec": {
   "display_name": "Python 3",
   "language": "python",
   "name": "python3"
  },
  "language_info": {
   "codemirror_mode": {
    "name": "ipython",
    "version": 3
   },
   "file_extension": ".py",
   "mimetype": "text/x-python",
   "name": "python",
   "nbconvert_exporter": "python",
   "pygments_lexer": "ipython3",
   "version": "3.8.2"
  }
 },
 "nbformat": 4,
 "nbformat_minor": 4
}
