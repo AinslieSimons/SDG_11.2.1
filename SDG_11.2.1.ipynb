{
 "cells": [
  {
   "cell_type": "markdown",
   "metadata": {},
   "source": [
    "### Development Method\n",
    "\n",
    "1. get public transport location data - NAPTAN a) Clean it if necessary\n",
    "2. get population location data -  LSOA from ONS\n",
    "3. use Fiona to read location data\n",
    "4. limit to one or two locations, e.g. London and a more rural area\n",
    "5. draw Euclidean Buffers around LSOA polygon centre points\n",
    "6. find number of public transport stops in the polygon with “points in polygons” approach"
   ]
  },
  {
   "cell_type": "code",
   "execution_count": 1,
   "metadata": {},
   "outputs": [],
   "source": [
    "%load_ext pycodestyle_magic\n",
    "%pycodestyle_on"
   ]
  },
  {
   "cell_type": "code",
   "execution_count": 3,
   "metadata": {},
   "outputs": [
    {
     "name": "stderr",
     "output_type": "stream",
     "text": [
      "10:80: E501 line too long (101 > 79 characters)\n"
     ]
    }
   ],
   "source": [
    "import pandas as pd\n",
    "import geopandas as gpd\n",
    "import os\n",
    "import matplotlib.pyplot as plt\n",
    "from shapely.geometry import Point, Polygon\n",
    "import requests\n",
    "import json\n",
    "import pyproj\n",
    "from math import cos\n",
    "from modules import geo_df_from_csv, geo_df_from_geospatialfile, find_points_in_poly, draw_5km_buffer"
   ]
  },
  {
   "cell_type": "code",
   "execution_count": 4,
   "metadata": {},
   "outputs": [
    {
     "ename": "AttributeError",
     "evalue": "'DataFrame' object has no attribute 'crs'",
     "output_type": "error",
     "traceback": [
      "\u001b[0;31m---------------------------------------------------------------------------\u001b[0m",
      "\u001b[0;31mAttributeError\u001b[0m                            Traceback (most recent call last)",
      "\u001b[0;32m<ipython-input-4-0eb026463a23>\u001b[0m in \u001b[0;36m<module>\u001b[0;34m\u001b[0m\n\u001b[1;32m      4\u001b[0m                'Stops.txt'))\n\u001b[1;32m      5\u001b[0m \u001b[0;34m\u001b[0m\u001b[0m\n\u001b[0;32m----> 6\u001b[0;31m stops_geo_df = (geo_df_from_csv(path_to_csv=stops_path,\n\u001b[0m\u001b[1;32m      7\u001b[0m                             \u001b[0mdelim\u001b[0m\u001b[0;34m=\u001b[0m\u001b[0;34m'\\t'\u001b[0m\u001b[0;34m,\u001b[0m\u001b[0;34m\u001b[0m\u001b[0;34m\u001b[0m\u001b[0m\n\u001b[1;32m      8\u001b[0m                             \u001b[0mgeom_x\u001b[0m\u001b[0;34m=\u001b[0m\u001b[0;34m'stop_lon'\u001b[0m\u001b[0;34m,\u001b[0m\u001b[0;34m\u001b[0m\u001b[0;34m\u001b[0m\u001b[0m\n",
      "\u001b[0;32m~/programming/SDG_11.2.1/modules.py\u001b[0m in \u001b[0;36mgeo_df_from_csv\u001b[0;34m(path_to_csv, geom_x, geom_y, delim)\u001b[0m\n\u001b[1;32m     17\u001b[0m             \"\"\"\n\u001b[1;32m     18\u001b[0m     \u001b[0mpd_df\u001b[0m \u001b[0;34m=\u001b[0m \u001b[0mpd\u001b[0m\u001b[0;34m.\u001b[0m\u001b[0mread_csv\u001b[0m\u001b[0;34m(\u001b[0m\u001b[0mpath_to_csv\u001b[0m\u001b[0;34m,\u001b[0m \u001b[0mdelim\u001b[0m\u001b[0;34m)\u001b[0m\u001b[0;34m\u001b[0m\u001b[0;34m\u001b[0m\u001b[0m\n\u001b[0;32m---> 19\u001b[0;31m     \u001b[0mcrs\u001b[0m \u001b[0;34m=\u001b[0m \u001b[0;34mf\"EPSG:{pd_df.crs['units']}\"\u001b[0m\u001b[0;34m\u001b[0m\u001b[0;34m\u001b[0m\u001b[0m\n\u001b[0m\u001b[1;32m     20\u001b[0m     \u001b[0mgeometry\u001b[0m \u001b[0;34m=\u001b[0m \u001b[0;34m[\u001b[0m\u001b[0mPoint\u001b[0m\u001b[0;34m(\u001b[0m\u001b[0mxy\u001b[0m\u001b[0;34m)\u001b[0m \u001b[0;32mfor\u001b[0m \u001b[0mxy\u001b[0m \u001b[0;32min\u001b[0m \u001b[0mzip\u001b[0m\u001b[0;34m(\u001b[0m\u001b[0mpd_df\u001b[0m\u001b[0;34m[\u001b[0m\u001b[0mgeom_x\u001b[0m\u001b[0;34m]\u001b[0m\u001b[0;34m,\u001b[0m \u001b[0mpd_df\u001b[0m\u001b[0;34m[\u001b[0m\u001b[0mgeom_y\u001b[0m\u001b[0;34m]\u001b[0m\u001b[0;34m)\u001b[0m\u001b[0;34m]\u001b[0m\u001b[0;34m\u001b[0m\u001b[0;34m\u001b[0m\u001b[0m\n\u001b[1;32m     21\u001b[0m     \u001b[0mgeo_df\u001b[0m \u001b[0;34m=\u001b[0m \u001b[0mgpd\u001b[0m\u001b[0;34m.\u001b[0m\u001b[0mGeoDataFrame\u001b[0m\u001b[0;34m(\u001b[0m\u001b[0mpd_df\u001b[0m\u001b[0;34m,\u001b[0m \u001b[0mgeometry\u001b[0m\u001b[0;34m=\u001b[0m\u001b[0mgeometry\u001b[0m\u001b[0;34m)\u001b[0m\u001b[0;34m\u001b[0m\u001b[0;34m\u001b[0m\u001b[0m\n",
      "\u001b[0;32m~/anaconda3/envs/SDG_11.2.1/lib/python3.8/site-packages/pandas/core/generic.py\u001b[0m in \u001b[0;36m__getattr__\u001b[0;34m(self, name)\u001b[0m\n\u001b[1;32m   5272\u001b[0m             \u001b[0;32mif\u001b[0m \u001b[0mself\u001b[0m\u001b[0;34m.\u001b[0m\u001b[0m_info_axis\u001b[0m\u001b[0;34m.\u001b[0m\u001b[0m_can_hold_identifiers_and_holds_name\u001b[0m\u001b[0;34m(\u001b[0m\u001b[0mname\u001b[0m\u001b[0;34m)\u001b[0m\u001b[0;34m:\u001b[0m\u001b[0;34m\u001b[0m\u001b[0;34m\u001b[0m\u001b[0m\n\u001b[1;32m   5273\u001b[0m                 \u001b[0;32mreturn\u001b[0m \u001b[0mself\u001b[0m\u001b[0;34m[\u001b[0m\u001b[0mname\u001b[0m\u001b[0;34m]\u001b[0m\u001b[0;34m\u001b[0m\u001b[0;34m\u001b[0m\u001b[0m\n\u001b[0;32m-> 5274\u001b[0;31m             \u001b[0;32mreturn\u001b[0m \u001b[0mobject\u001b[0m\u001b[0;34m.\u001b[0m\u001b[0m__getattribute__\u001b[0m\u001b[0;34m(\u001b[0m\u001b[0mself\u001b[0m\u001b[0;34m,\u001b[0m \u001b[0mname\u001b[0m\u001b[0;34m)\u001b[0m\u001b[0;34m\u001b[0m\u001b[0;34m\u001b[0m\u001b[0m\n\u001b[0m\u001b[1;32m   5275\u001b[0m \u001b[0;34m\u001b[0m\u001b[0m\n\u001b[1;32m   5276\u001b[0m     \u001b[0;32mdef\u001b[0m \u001b[0m__setattr__\u001b[0m\u001b[0;34m(\u001b[0m\u001b[0mself\u001b[0m\u001b[0;34m,\u001b[0m \u001b[0mname\u001b[0m\u001b[0;34m:\u001b[0m \u001b[0mstr\u001b[0m\u001b[0;34m,\u001b[0m \u001b[0mvalue\u001b[0m\u001b[0;34m)\u001b[0m \u001b[0;34m->\u001b[0m \u001b[0;32mNone\u001b[0m\u001b[0;34m:\u001b[0m\u001b[0;34m\u001b[0m\u001b[0;34m\u001b[0m\u001b[0m\n",
      "\u001b[0;31mAttributeError\u001b[0m: 'DataFrame' object has no attribute 'crs'"
     ]
    },
    {
     "name": "stderr",
     "output_type": "stream",
     "text": [
      "7:29: E128 continuation line under-indented for visual indent\n",
      "8:29: E128 continuation line under-indented for visual indent\n",
      "9:29: E128 continuation line under-indented for visual indent\n"
     ]
    }
   ],
   "source": [
    "stops_path = (os.path.join\n",
    "              (os.getcwd(),\n",
    "               'data',\n",
    "               'Stops.txt'))\n",
    "\n",
    "stops_geo_df = (geo_df_from_csv(path_to_csv=stops_path,\n",
    "                            delim='\\t',\n",
    "                            geom_x='stop_lon',\n",
    "                            geom_y='stop_lat'))\n",
    "stops_geo_df.sample(15)"
   ]
  },
  {
   "cell_type": "code",
   "execution_count": 160,
   "metadata": {},
   "outputs": [
    {
     "data": {
      "text/html": [
       "<div>\n",
       "<style scoped>\n",
       "    .dataframe tbody tr th:only-of-type {\n",
       "        vertical-align: middle;\n",
       "    }\n",
       "\n",
       "    .dataframe tbody tr th {\n",
       "        vertical-align: top;\n",
       "    }\n",
       "\n",
       "    .dataframe thead th {\n",
       "        text-align: right;\n",
       "    }\n",
       "</style>\n",
       "<table border=\"1\" class=\"dataframe\">\n",
       "  <thead>\n",
       "    <tr style=\"text-align: right;\">\n",
       "      <th></th>\n",
       "      <th>stop_id</th>\n",
       "      <th>stop_code</th>\n",
       "      <th>stop_name</th>\n",
       "      <th>stop_lat</th>\n",
       "      <th>stop_lon</th>\n",
       "      <th>stop_url</th>\n",
       "      <th>vehicle_type</th>\n",
       "      <th>geometry</th>\n",
       "    </tr>\n",
       "  </thead>\n",
       "  <tbody>\n",
       "    <tr>\n",
       "      <th>76301</th>\n",
       "      <td>150012891S</td>\n",
       "      <td>esxjdtjp</td>\n",
       "      <td>Grange Hill, Stradbroke Park (adj)</td>\n",
       "      <td>51.60482</td>\n",
       "      <td>0.07290</td>\n",
       "      <td>NaN</td>\n",
       "      <td>3.0</td>\n",
       "      <td>POINT (0.07290 51.60482)</td>\n",
       "    </tr>\n",
       "    <tr>\n",
       "      <th>79876</th>\n",
       "      <td>150042023001</td>\n",
       "      <td>esxatmga</td>\n",
       "      <td>Grange Hill, Tudor Crescent (adj)</td>\n",
       "      <td>51.60665</td>\n",
       "      <td>0.08303</td>\n",
       "      <td>NaN</td>\n",
       "      <td>3.0</td>\n",
       "      <td>POINT (0.08303 51.60665)</td>\n",
       "    </tr>\n",
       "    <tr>\n",
       "      <th>122161</th>\n",
       "      <td>210021803340</td>\n",
       "      <td>hrtajatj</td>\n",
       "      <td>Batchworth Heath, Mount Vernon Hospital (nr)</td>\n",
       "      <td>51.61460</td>\n",
       "      <td>-0.45066</td>\n",
       "      <td>NaN</td>\n",
       "      <td>3.0</td>\n",
       "      <td>POINT (-0.45066 51.61460)</td>\n",
       "    </tr>\n",
       "    <tr>\n",
       "      <th>123431</th>\n",
       "      <td>210021001322</td>\n",
       "      <td>hrtgtdad</td>\n",
       "      <td>Dancers Hill, The Shires (nr)</td>\n",
       "      <td>51.66453</td>\n",
       "      <td>-0.20933</td>\n",
       "      <td>NaN</td>\n",
       "      <td>3.0</td>\n",
       "      <td>POINT (-0.20933 51.66453)</td>\n",
       "    </tr>\n",
       "    <tr>\n",
       "      <th>134927</th>\n",
       "      <td>2400107805</td>\n",
       "      <td>kntjwmdj</td>\n",
       "      <td>Knockholt, Scotts Lodge (opp)</td>\n",
       "      <td>51.30058</td>\n",
       "      <td>0.08625</td>\n",
       "      <td>NaN</td>\n",
       "      <td>3.0</td>\n",
       "      <td>POINT (0.08625 51.30058)</td>\n",
       "    </tr>\n",
       "  </tbody>\n",
       "</table>\n",
       "</div>"
      ],
      "text/plain": [
       "             stop_id stop_code                                     stop_name  \\\n",
       "76301     150012891S  esxjdtjp            Grange Hill, Stradbroke Park (adj)   \n",
       "79876   150042023001  esxatmga             Grange Hill, Tudor Crescent (adj)   \n",
       "122161  210021803340  hrtajatj  Batchworth Heath, Mount Vernon Hospital (nr)   \n",
       "123431  210021001322  hrtgtdad                 Dancers Hill, The Shires (nr)   \n",
       "134927    2400107805  kntjwmdj                 Knockholt, Scotts Lodge (opp)   \n",
       "\n",
       "        stop_lat  stop_lon  stop_url  vehicle_type                   geometry  \n",
       "76301   51.60482   0.07290       NaN           3.0   POINT (0.07290 51.60482)  \n",
       "79876   51.60665   0.08303       NaN           3.0   POINT (0.08303 51.60665)  \n",
       "122161  51.61460  -0.45066       NaN           3.0  POINT (-0.45066 51.61460)  \n",
       "123431  51.66453  -0.20933       NaN           3.0  POINT (-0.20933 51.66453)  \n",
       "134927  51.30058   0.08625       NaN           3.0   POINT (0.08625 51.30058)  "
      ]
     },
     "execution_count": 160,
     "metadata": {},
     "output_type": "execute_result"
    },
    {
     "name": "stderr",
     "output_type": "stream",
     "text": [
      "2:33: E127 continuation line over-indented for visual indent\n"
     ]
    }
   ],
   "source": [
    "greater_london_path = ((os.path.join\n",
    "                                (os.getcwd(),\n",
    "                                 'data',\n",
    "                                 'greater_london.geojson')))\n",
    "\n",
    "greater_london_geo_df = geo_df_from_geospatialfile(greater_london_path)\n",
    "\n",
    "greater_london_geo_df.head()\n",
    "\n",
    "# Creating a Geo Dataframe of only stops in London\n",
    "london_stops_geo_df = (find_points_in_poly\n",
    "                       (geo_df=stops_geo_df,\n",
    "                        polygon_obj=greater_london_geo_df))\n",
    "\n",
    "london_stops_geo_df.head()"
   ]
  },
  {
   "cell_type": "code",
   "execution_count": 161,
   "metadata": {},
   "outputs": [
    {
     "name": "stderr",
     "output_type": "stream",
     "text": [
      "4:20: E128 continuation line under-indented for visual indent\n",
      "10:1: W391 blank line at end of file\n"
     ]
    }
   ],
   "source": [
    "# Birmingham Census Data\n",
    "birmingham_map_path = (os.path.join\n",
    "                   (os.getcwd(),\n",
    "                    'data',\n",
    "                    'Birmingham_merged_census_BoundaryData',\n",
    "                    'england_oac_2011.shp'))\n",
    "\n",
    "birmingham_census_geo_df = geo_df_from_geospatialfile(birmingham_map_path)"
   ]
  },
  {
   "cell_type": "code",
   "execution_count": 162,
   "metadata": {},
   "outputs": [
    {
     "data": {
      "text/plain": [
       "0       E08000025 E02001922 E01009286 E00047060\n",
       "1       E08000025 E02001922 E01009286 E00047060\n",
       "2       E08000025 E02001922 E01009286 E00047060\n",
       "3       E08000025 E02001922 E01009286 E00047060\n",
       "4       E08000025 E02001922 E01009286 E00047060\n",
       "                         ...                   \n",
       "3218    E08000025 E02001922 E01009286 E00047060\n",
       "3219    E08000025 E02001922 E01009286 E00047060\n",
       "3220    E08000025 E02001922 E01009286 E00047060\n",
       "3221    E08000025 E02001922 E01009286 E00047060\n",
       "3222    E08000025 E02001922 E01009286 E00047060\n",
       "Name: label, Length: 3223, dtype: object"
      ]
     },
     "execution_count": 162,
     "metadata": {},
     "output_type": "execute_result"
    },
    {
     "name": "stderr",
     "output_type": "stream",
     "text": [
      "1:80: E501 line too long (103 > 79 characters)\n",
      "8:1: E305 expected 2 blank lines after class or function definition, found 1\n",
      "8:80: E501 line too long (90 > 79 characters)\n"
     ]
    }
   ],
   "source": [
    "# There is a problem with the \"label\" column as it contains multiple ONS GSS codes for each observation\n",
    "def insert_space_middle(str): # Only used for fixing the Birmingham data. Probably a bad import. #HELP\n",
    "    \"A function to insert a space into a string after every 9th digit\"\n",
    "    return \" \".join([s[i*9:i*9+9] for i in range(len(s)//9)])\n",
    "\n",
    "birmingham_census_geo_df.label = birmingham_census_geo_df.label.apply(insert_space_middle)\n",
    "\n",
    "# birmingham_census_geo_df.label.str.split(expand=True)\n",
    "birmingham_census_geo_df.label.explode()"
   ]
  },
  {
   "cell_type": "code",
   "execution_count": 163,
   "metadata": {
    "scrolled": true
   },
   "outputs": [
    {
     "name": "stderr",
     "output_type": "stream",
     "text": [
      "2:67: W291 trailing whitespace\n",
      "3:67: W291 trailing whitespace\n",
      "5:1: W293 blank line contains whitespace\n",
      "19:71: W291 trailing whitespace\n",
      "22:51: E128 continuation line under-indented for visual indent\n",
      "23:51: E128 continuation line under-indented for visual indent\n",
      "23:80: E501 line too long (84 > 79 characters)\n",
      "24:1: W391 blank line at end of file\n"
     ]
    }
   ],
   "source": [
    "birmingham_json_url = 'https://mapit.mysociety.org/area/2514/children' \n",
    "\n",
    "birmingahm_gsscode_dataset = get_and_save_geo_dataset(birmingham_json_url,\n",
    "                                                  './data/',\n",
    "                                                  \"birmingahm_gsscode_dataset.json\")"
   ]
  },
  {
   "cell_type": "code",
   "execution_count": 164,
   "metadata": {},
   "outputs": [
    {
     "name": "stderr",
     "output_type": "stream",
     "text": [
      "2:80: E501 line too long (93 > 79 characters)\n",
      "3:51: W291 trailing whitespace\n",
      "4:26: E128 continuation line under-indented for visual indent\n",
      "5:26: E128 continuation line under-indented for visual indent\n",
      "5:52: W291 trailing whitespace\n"
     ]
    }
   ],
   "source": [
    "# Trying to read the LSOA for UK via a json but failing\n",
    "LSOA_url = \"https://raw.githubusercontent.com/ONSvisual/topojson_boundaries/master/LSOA.json\"\n",
    "LSOA_data = get_and_save_geo_dataset(url=LSOA_url, \n",
    "                         localpath='./data/',\n",
    "                         filename='LSOA_data.json')                                             "
   ]
  },
  {
   "cell_type": "code",
   "execution_count": 165,
   "metadata": {
    "scrolled": true
   },
   "outputs": [
    {
     "name": "stderr",
     "output_type": "stream",
     "text": [
      "2:80: E501 line too long (89 > 79 characters)\n"
     ]
    }
   ],
   "source": [
    "# Getting the Lower Super Output Area for the UK into a dataframe\n",
    "uk_LSOA_shp_file = \"Lower_Layer_Super_Output_Areas__December_2011__Boundaries_EW_BGC.shp\"\n",
    "full_path = os.path.join(os.getcwd(), \"data\", \"LSOA_shp\", uk_LSOA_shp_file)\n",
    "uk_LSOA_df = geo_df_from_geospatialfile(path_to_file=full_path)"
   ]
  },
  {
   "cell_type": "code",
   "execution_count": 166,
   "metadata": {
    "scrolled": false
   },
   "outputs": [
    {
     "name": "stderr",
     "output_type": "stream",
     "text": [
      "11:1: W293 blank line contains whitespace\n",
      "13:80: E501 line too long (111 > 79 characters)\n",
      "13:112: W291 trailing whitespace\n",
      "14:80: E501 line too long (86 > 79 characters)\n",
      "14:87: W291 trailing whitespace\n"
     ]
    }
   ],
   "source": [
    "# geo_df_from_geospatialfile(os.path.join\n",
    "#                            (os.getcwd(),\n",
    "#                             'data',\n",
    "#                             'birmingham_geo_dataset.json'))\n",
    "\n",
    "\n",
    "# Manipulating the Birmingham df\n",
    "# splitting the \"codes\" column into \"gss\" and \"unit_id\"\n",
    "# setting \"id\" as the index\n",
    "    \n",
    "birmingham_df = pd.DataFrame.from_dict(birmingahm_gsscode_dataset).T\n",
    "gss_code_cols = pd.DataFrame.from_dict(birmingahm_gsscode_dataset).T.codes.apply(pd.Series).drop(\"ons\", axis=1) \n",
    "birmingham_df = birmingham_df.join(gss_code_cols).drop([\"codes\", \"all_names\"], axis=1) \n",
    "birmingham_df.set_index('id', inplace=True)"
   ]
  },
  {
   "cell_type": "code",
   "execution_count": 167,
   "metadata": {},
   "outputs": [
    {
     "data": {
      "text/html": [
       "<div>\n",
       "<style scoped>\n",
       "    .dataframe tbody tr th:only-of-type {\n",
       "        vertical-align: middle;\n",
       "    }\n",
       "\n",
       "    .dataframe tbody tr th {\n",
       "        vertical-align: top;\n",
       "    }\n",
       "\n",
       "    .dataframe thead th {\n",
       "        text-align: right;\n",
       "    }\n",
       "</style>\n",
       "<table border=\"1\" class=\"dataframe\">\n",
       "  <thead>\n",
       "    <tr style=\"text-align: right;\">\n",
       "      <th></th>\n",
       "      <th>parent_area</th>\n",
       "      <th>generation_high</th>\n",
       "      <th>name</th>\n",
       "      <th>country</th>\n",
       "      <th>type_name</th>\n",
       "      <th>generation_low</th>\n",
       "      <th>country_name</th>\n",
       "      <th>type</th>\n",
       "      <th>gss</th>\n",
       "      <th>unit_id</th>\n",
       "    </tr>\n",
       "    <tr>\n",
       "      <th>id</th>\n",
       "      <th></th>\n",
       "      <th></th>\n",
       "      <th></th>\n",
       "      <th></th>\n",
       "      <th></th>\n",
       "      <th></th>\n",
       "      <th></th>\n",
       "      <th></th>\n",
       "      <th></th>\n",
       "      <th></th>\n",
       "    </tr>\n",
       "  </thead>\n",
       "  <tbody>\n",
       "    <tr>\n",
       "      <th>151905</th>\n",
       "      <td>2514</td>\n",
       "      <td>40</td>\n",
       "      <td>Acocks Green</td>\n",
       "      <td>E</td>\n",
       "      <td>Metropolitan district ward</td>\n",
       "      <td>33</td>\n",
       "      <td>England</td>\n",
       "      <td>MTW</td>\n",
       "      <td>E05011118</td>\n",
       "      <td>185</td>\n",
       "    </tr>\n",
       "    <tr>\n",
       "      <th>151888</th>\n",
       "      <td>2514</td>\n",
       "      <td>40</td>\n",
       "      <td>Allens Cross</td>\n",
       "      <td>E</td>\n",
       "      <td>Metropolitan district ward</td>\n",
       "      <td>33</td>\n",
       "      <td>England</td>\n",
       "      <td>MTW</td>\n",
       "      <td>E05011119</td>\n",
       "      <td>44822</td>\n",
       "    </tr>\n",
       "    <tr>\n",
       "      <th>151917</th>\n",
       "      <td>2514</td>\n",
       "      <td>40</td>\n",
       "      <td>Alum Rock</td>\n",
       "      <td>E</td>\n",
       "      <td>Metropolitan district ward</td>\n",
       "      <td>33</td>\n",
       "      <td>England</td>\n",
       "      <td>MTW</td>\n",
       "      <td>E05011120</td>\n",
       "      <td>63</td>\n",
       "    </tr>\n",
       "    <tr>\n",
       "      <th>151943</th>\n",
       "      <td>2514</td>\n",
       "      <td>40</td>\n",
       "      <td>Aston</td>\n",
       "      <td>E</td>\n",
       "      <td>Metropolitan district ward</td>\n",
       "      <td>33</td>\n",
       "      <td>England</td>\n",
       "      <td>MTW</td>\n",
       "      <td>E05011121</td>\n",
       "      <td>22</td>\n",
       "    </tr>\n",
       "    <tr>\n",
       "      <th>151933</th>\n",
       "      <td>2514</td>\n",
       "      <td>40</td>\n",
       "      <td>Balsall Heath West</td>\n",
       "      <td>E</td>\n",
       "      <td>Metropolitan district ward</td>\n",
       "      <td>33</td>\n",
       "      <td>England</td>\n",
       "      <td>MTW</td>\n",
       "      <td>E05011122</td>\n",
       "      <td>21</td>\n",
       "    </tr>\n",
       "  </tbody>\n",
       "</table>\n",
       "</div>"
      ],
      "text/plain": [
       "       parent_area generation_high                name country  \\\n",
       "id                                                               \n",
       "151905        2514              40        Acocks Green       E   \n",
       "151888        2514              40        Allens Cross       E   \n",
       "151917        2514              40           Alum Rock       E   \n",
       "151943        2514              40               Aston       E   \n",
       "151933        2514              40  Balsall Heath West       E   \n",
       "\n",
       "                         type_name generation_low country_name type  \\\n",
       "id                                                                    \n",
       "151905  Metropolitan district ward             33      England  MTW   \n",
       "151888  Metropolitan district ward             33      England  MTW   \n",
       "151917  Metropolitan district ward             33      England  MTW   \n",
       "151943  Metropolitan district ward             33      England  MTW   \n",
       "151933  Metropolitan district ward             33      England  MTW   \n",
       "\n",
       "              gss unit_id  \n",
       "id                         \n",
       "151905  E05011118     185  \n",
       "151888  E05011119   44822  \n",
       "151917  E05011120      63  \n",
       "151943  E05011121      22  \n",
       "151933  E05011122      21  "
      ]
     },
     "execution_count": 167,
     "metadata": {},
     "output_type": "execute_result"
    }
   ],
   "source": [
    "birmingham_df.head()"
   ]
  },
  {
   "cell_type": "code",
   "execution_count": 168,
   "metadata": {
    "scrolled": true
   },
   "outputs": [
    {
     "data": {
      "text/html": [
       "<div>\n",
       "<style scoped>\n",
       "    .dataframe tbody tr th:only-of-type {\n",
       "        vertical-align: middle;\n",
       "    }\n",
       "\n",
       "    .dataframe tbody tr th {\n",
       "        vertical-align: top;\n",
       "    }\n",
       "\n",
       "    .dataframe thead th {\n",
       "        text-align: right;\n",
       "    }\n",
       "</style>\n",
       "<table border=\"1\" class=\"dataframe\">\n",
       "  <thead>\n",
       "    <tr style=\"text-align: right;\">\n",
       "      <th></th>\n",
       "      <th>FID</th>\n",
       "      <th>LSOA11CD</th>\n",
       "      <th>LSOA11NM</th>\n",
       "      <th>LSOA11NMW</th>\n",
       "      <th>Age_Indica</th>\n",
       "      <th>Shape__Are</th>\n",
       "      <th>Shape__Len</th>\n",
       "      <th>geometry</th>\n",
       "    </tr>\n",
       "  </thead>\n",
       "  <tbody>\n",
       "    <tr>\n",
       "      <th>0</th>\n",
       "      <td>1</td>\n",
       "      <td>E01001019</td>\n",
       "      <td>Croydon 044B</td>\n",
       "      <td>Croydon 044B</td>\n",
       "      <td>0</td>\n",
       "      <td>1.515854e+06</td>\n",
       "      <td>8362.659636</td>\n",
       "      <td>POLYGON ((-0.12763 51.31428, -0.12746 51.31367...</td>\n",
       "    </tr>\n",
       "    <tr>\n",
       "      <th>1</th>\n",
       "      <td>2</td>\n",
       "      <td>E01000001</td>\n",
       "      <td>City of London 001A</td>\n",
       "      <td>City of London 001A</td>\n",
       "      <td>0</td>\n",
       "      <td>3.439074e+05</td>\n",
       "      <td>3682.439418</td>\n",
       "      <td>POLYGON ((-0.09726 51.52158, -0.09649 51.52028...</td>\n",
       "    </tr>\n",
       "    <tr>\n",
       "      <th>2</th>\n",
       "      <td>3</td>\n",
       "      <td>E01001020</td>\n",
       "      <td>Croydon 044C</td>\n",
       "      <td>Croydon 044C</td>\n",
       "      <td>0</td>\n",
       "      <td>9.354317e+05</td>\n",
       "      <td>7236.272525</td>\n",
       "      <td>POLYGON ((-0.12254 51.30867, -0.12172 51.30775...</td>\n",
       "    </tr>\n",
       "    <tr>\n",
       "      <th>3</th>\n",
       "      <td>4</td>\n",
       "      <td>E01001021</td>\n",
       "      <td>Croydon 044D</td>\n",
       "      <td>Croydon 044D</td>\n",
       "      <td>0</td>\n",
       "      <td>5.237812e+06</td>\n",
       "      <td>12160.534720</td>\n",
       "      <td>POLYGON ((-0.12799 51.30705, -0.12513 51.30561...</td>\n",
       "    </tr>\n",
       "    <tr>\n",
       "      <th>4</th>\n",
       "      <td>5</td>\n",
       "      <td>E01000002</td>\n",
       "      <td>City of London 001B</td>\n",
       "      <td>City of London 001B</td>\n",
       "      <td>0</td>\n",
       "      <td>5.834740e+05</td>\n",
       "      <td>3910.387238</td>\n",
       "      <td>POLYGON ((-0.08810 51.51941, -0.08927 51.51752...</td>\n",
       "    </tr>\n",
       "  </tbody>\n",
       "</table>\n",
       "</div>"
      ],
      "text/plain": [
       "   FID   LSOA11CD             LSOA11NM            LSOA11NMW  Age_Indica  \\\n",
       "0    1  E01001019         Croydon 044B         Croydon 044B           0   \n",
       "1    2  E01000001  City of London 001A  City of London 001A           0   \n",
       "2    3  E01001020         Croydon 044C         Croydon 044C           0   \n",
       "3    4  E01001021         Croydon 044D         Croydon 044D           0   \n",
       "4    5  E01000002  City of London 001B  City of London 001B           0   \n",
       "\n",
       "     Shape__Are    Shape__Len  \\\n",
       "0  1.515854e+06   8362.659636   \n",
       "1  3.439074e+05   3682.439418   \n",
       "2  9.354317e+05   7236.272525   \n",
       "3  5.237812e+06  12160.534720   \n",
       "4  5.834740e+05   3910.387238   \n",
       "\n",
       "                                            geometry  \n",
       "0  POLYGON ((-0.12763 51.31428, -0.12746 51.31367...  \n",
       "1  POLYGON ((-0.09726 51.52158, -0.09649 51.52028...  \n",
       "2  POLYGON ((-0.12254 51.30867, -0.12172 51.30775...  \n",
       "3  POLYGON ((-0.12799 51.30705, -0.12513 51.30561...  \n",
       "4  POLYGON ((-0.08810 51.51941, -0.08927 51.51752...  "
      ]
     },
     "execution_count": 168,
     "metadata": {},
     "output_type": "execute_result"
    }
   ],
   "source": [
    "uk_LSOA_df.head()"
   ]
  },
  {
   "cell_type": "code",
   "execution_count": 175,
   "metadata": {},
   "outputs": [
    {
     "data": {
      "text/html": [
       "<div>\n",
       "<style scoped>\n",
       "    .dataframe tbody tr th:only-of-type {\n",
       "        vertical-align: middle;\n",
       "    }\n",
       "\n",
       "    .dataframe tbody tr th {\n",
       "        vertical-align: top;\n",
       "    }\n",
       "\n",
       "    .dataframe thead th {\n",
       "        text-align: right;\n",
       "    }\n",
       "</style>\n",
       "<table border=\"1\" class=\"dataframe\">\n",
       "  <thead>\n",
       "    <tr style=\"text-align: right;\">\n",
       "      <th></th>\n",
       "      <th>geometry</th>\n",
       "    </tr>\n",
       "    <tr>\n",
       "      <th>new_column</th>\n",
       "      <th></th>\n",
       "    </tr>\n",
       "  </thead>\n",
       "  <tbody>\n",
       "    <tr>\n",
       "      <th>0</th>\n",
       "      <td>POLYGON ((-1.91409 52.40759, -1.91368 52.40746...</td>\n",
       "    </tr>\n",
       "  </tbody>\n",
       "</table>\n",
       "</div>"
      ],
      "text/plain": [
       "                                                     geometry\n",
       "new_column                                                   \n",
       "0           POLYGON ((-1.91409 52.40759, -1.91368 52.40746..."
      ]
     },
     "execution_count": 175,
     "metadata": {},
     "output_type": "execute_result"
    },
    {
     "name": "stderr",
     "output_type": "stream",
     "text": [
      "1:1: E265 block comment should start with '# '\n",
      "2:80: E501 line too long (81 > 79 characters)\n",
      "4:1: E265 block comment should start with '# '\n",
      "5:56: E231 missing whitespace after ','\n",
      "5:67: E231 missing whitespace after ','\n",
      "5:79: E231 missing whitespace after ','\n",
      "5:80: E501 line too long (139 > 79 characters)\n",
      "5:106: E231 missing whitespace after ','\n",
      "5:119: E231 missing whitespace after ','\n"
     ]
    }
   ],
   "source": [
    "#Getting just the Birmingham LSOA\n",
    "just_birmingham_LSOA = uk_LSOA_df[uk_LSOA_df.LSOA11NM.str.contains(\"Birmingham\")]\n",
    "\n",
    "#Trying to create a birmingham polygon\n",
    "just_birmingham_geom = just_birmingham_LSOA.drop([\"FID\",\"LSOA11CD\",\"LSOA11NMW\",\"Age_Indica\", \"Shape__Are\",\"Shape__Len\",\"LSOA11NM\"], axis=1)\n",
    "just_birmingham_geom.city = \"birmingham\"\n",
    "just_birmingham_geom['new_column'] = 0\n",
    "just_birmingham_geom = just_birmingham_geom.dissolve(by='new_column')"
   ]
  },
  {
   "cell_type": "code",
   "execution_count": 177,
   "metadata": {
    "scrolled": true
   },
   "outputs": [
    {
     "data": {
      "text/plain": [
       "<matplotlib.axes._subplots.AxesSubplot at 0x7f308e4c3130>"
      ]
     },
     "execution_count": 177,
     "metadata": {},
     "output_type": "execute_result"
    },
    {
     "data": {
      "image/png": "[encoded data removed]",
      "text/plain": [
       "<Figure size 432x288 with 1 Axes>"
      ]
     },
     "metadata": {
      "needs_background": "light"
     },
     "output_type": "display_data"
    }
   ],
   "source": [
    "just_birmingham_geom.plot()"
   ]
  },
  {
   "cell_type": "code",
   "execution_count": 202,
   "metadata": {},
   "outputs": [
    {
     "name": "stderr",
     "output_type": "stream",
     "text": [
      "<ipython-input-202-33858418173e>:2: UserWarning: Geometry is in a geographic CRS. Results from 'centroid' are likely incorrect. Use 'GeoSeries.to_crs()' to re-project geometries to a projected CRS before this operation.\n",
      "\n",
      "  bham_centrepoint = just_birmingham_geom.centroid\n",
      "<ipython-input-200-df91a870538d>:12: UserWarning: Geometry is in a geographic CRS. Results from 'buffer' are likely incorrect. Use 'GeoSeries.to_crs()' to re-project geometries to a projected CRS before this operation.\n",
      "\n",
      "  return centroid.buffer(distance=degrees)\n"
     ]
    },
    {
     "data": {
      "image/png": "[encoded data removed]",
      "text/plain": [
       "<Figure size 432x288 with 1 Axes>"
      ]
     },
     "metadata": {
      "needs_background": "light"
     },
     "output_type": "display_data"
    },
    {
     "name": "stderr",
     "output_type": "stream",
     "text": [
      "1:1: E266 too many leading '#' for block comment\n",
      "1:21: W291 trailing whitespace\n",
      "4:1: E265 block comment should start with '# '\n",
      "4:8: W291 trailing whitespace\n",
      "12:62: E261 at least two spaces before inline comment\n",
      "12:63: E262 inline comment should start with '# '\n",
      "12:80: E501 line too long (97 > 79 characters)\n",
      "14:1: W391 blank line at end of file\n"
     ]
    }
   ],
   "source": [
    "\n"
   ]
  },
  {
   "cell_type": "code",
   "execution_count": 180,
   "metadata": {},
   "outputs": [
    {
     "name": "stderr",
     "output_type": "stream",
     "text": [
      "3:24: E128 continuation line under-indented for visual indent\n"
     ]
    }
   ],
   "source": [
    "# Creating a Geo Dataframe of only stops in Birmingham\n",
    "birmingham_stops_geo_df = (find_points_in_poly\n",
    "                       (geo_df=stops_geo_df,\n",
    "                        polygon_obj=just_birmingham_geom))"
   ]
  },
  {
   "cell_type": "code",
   "execution_count": 181,
   "metadata": {},
   "outputs": [
    {
     "data": {
      "text/html": [
       "<div>\n",
       "<style scoped>\n",
       "    .dataframe tbody tr th:only-of-type {\n",
       "        vertical-align: middle;\n",
       "    }\n",
       "\n",
       "    .dataframe tbody tr th {\n",
       "        vertical-align: top;\n",
       "    }\n",
       "\n",
       "    .dataframe thead th {\n",
       "        text-align: right;\n",
       "    }\n",
       "</style>\n",
       "<table border=\"1\" class=\"dataframe\">\n",
       "  <thead>\n",
       "    <tr style=\"text-align: right;\">\n",
       "      <th></th>\n",
       "      <th>stop_id</th>\n",
       "      <th>stop_code</th>\n",
       "      <th>stop_name</th>\n",
       "      <th>stop_lat</th>\n",
       "      <th>stop_lon</th>\n",
       "      <th>stop_url</th>\n",
       "      <th>vehicle_type</th>\n",
       "      <th>geometry</th>\n",
       "    </tr>\n",
       "  </thead>\n",
       "  <tbody>\n",
       "    <tr>\n",
       "      <th>220835</th>\n",
       "      <td>3800C424102</td>\n",
       "      <td>stadpgaw</td>\n",
       "      <td>Little Aston, Burnett Road (Opp)</td>\n",
       "      <td>52.58518</td>\n",
       "      <td>-1.87227</td>\n",
       "      <td>NaN</td>\n",
       "      <td>3.0</td>\n",
       "      <td>POINT (-1.87227 52.58518)</td>\n",
       "    </tr>\n",
       "    <tr>\n",
       "      <th>248071</th>\n",
       "      <td>4200F080000</td>\n",
       "      <td>waradtdw</td>\n",
       "      <td>Wishaw, Cock (Adj)</td>\n",
       "      <td>52.54599</td>\n",
       "      <td>-1.75364</td>\n",
       "      <td>NaN</td>\n",
       "      <td>3.0</td>\n",
       "      <td>POINT (-1.75364 52.54599)</td>\n",
       "    </tr>\n",
       "    <tr>\n",
       "      <th>249509</th>\n",
       "      <td>43000105102</td>\n",
       "      <td>nwmadjda</td>\n",
       "      <td>Elmdon, Goodway Rd (opp)</td>\n",
       "      <td>52.45160</td>\n",
       "      <td>-1.76295</td>\n",
       "      <td>NaN</td>\n",
       "      <td>3.0</td>\n",
       "      <td>POINT (-1.76295 52.45160)</td>\n",
       "    </tr>\n",
       "    <tr>\n",
       "      <th>249709</th>\n",
       "      <td>43000141708</td>\n",
       "      <td>nwmadmpw</td>\n",
       "      <td>Five Ways, Morrisons (Stop FT)</td>\n",
       "      <td>52.47188</td>\n",
       "      <td>-1.91956</td>\n",
       "      <td>NaN</td>\n",
       "      <td>3.0</td>\n",
       "      <td>POINT (-1.91956 52.47188)</td>\n",
       "    </tr>\n",
       "    <tr>\n",
       "      <th>249723</th>\n",
       "      <td>43000147901</td>\n",
       "      <td>nwmgdgwp</td>\n",
       "      <td>Yardley Wood, Highfield Rd Island (after)</td>\n",
       "      <td>52.42436</td>\n",
       "      <td>-1.84793</td>\n",
       "      <td>NaN</td>\n",
       "      <td>3.0</td>\n",
       "      <td>POINT (-1.84793 52.42436)</td>\n",
       "    </tr>\n",
       "    <tr>\n",
       "      <th>...</th>\n",
       "      <td>...</td>\n",
       "      <td>...</td>\n",
       "      <td>...</td>\n",
       "      <td>...</td>\n",
       "      <td>...</td>\n",
       "      <td>...</td>\n",
       "      <td>...</td>\n",
       "      <td>...</td>\n",
       "    </tr>\n",
       "    <tr>\n",
       "      <th>383284</th>\n",
       "      <td>9400ZZWMSH</td>\n",
       "      <td>NaN</td>\n",
       "      <td>Winson Green, Soho Benson Road (Midland Metro ...</td>\n",
       "      <td>52.49689</td>\n",
       "      <td>-1.93115</td>\n",
       "      <td>NaN</td>\n",
       "      <td>1.0</td>\n",
       "      <td>POINT (-1.93115 52.49689)</td>\n",
       "    </tr>\n",
       "    <tr>\n",
       "      <th>383285</th>\n",
       "      <td>9400ZZWMST</td>\n",
       "      <td>NaN</td>\n",
       "      <td>Jewellery Quarter, St Paul's (Midland Metro Stop)</td>\n",
       "      <td>52.48666</td>\n",
       "      <td>-1.90393</td>\n",
       "      <td>NaN</td>\n",
       "      <td>1.0</td>\n",
       "      <td>POINT (-1.90393 52.48666)</td>\n",
       "    </tr>\n",
       "    <tr>\n",
       "      <th>383480</th>\n",
       "      <td>9400ZZWMCOR</td>\n",
       "      <td>NaN</td>\n",
       "      <td>Birmingham, Corporation Street (Midland Metro ...</td>\n",
       "      <td>52.47985</td>\n",
       "      <td>-1.89718</td>\n",
       "      <td>NaN</td>\n",
       "      <td>1.0</td>\n",
       "      <td>POINT (-1.89718 52.47985)</td>\n",
       "    </tr>\n",
       "    <tr>\n",
       "      <th>383692</th>\n",
       "      <td>9400ZZWMBO</td>\n",
       "      <td>NaN</td>\n",
       "      <td>Handsworth, Handsworth Booth Street (Midland M...</td>\n",
       "      <td>52.50196</td>\n",
       "      <td>-1.95218</td>\n",
       "      <td>NaN</td>\n",
       "      <td>1.0</td>\n",
       "      <td>POINT (-1.95218 52.50196)</td>\n",
       "    </tr>\n",
       "    <tr>\n",
       "      <th>383731</th>\n",
       "      <td>9400ZZWMNWS</td>\n",
       "      <td>NaN</td>\n",
       "      <td>Birmingham, Grand Central New Street (Midland ...</td>\n",
       "      <td>52.47862</td>\n",
       "      <td>-1.89931</td>\n",
       "      <td>NaN</td>\n",
       "      <td>1.0</td>\n",
       "      <td>POINT (-1.89931 52.47862)</td>\n",
       "    </tr>\n",
       "  </tbody>\n",
       "</table>\n",
       "<p>4522 rows × 8 columns</p>\n",
       "</div>"
      ],
      "text/plain": [
       "            stop_id stop_code  \\\n",
       "220835  3800C424102  stadpgaw   \n",
       "248071  4200F080000  waradtdw   \n",
       "249509  43000105102  nwmadjda   \n",
       "249709  43000141708  nwmadmpw   \n",
       "249723  43000147901  nwmgdgwp   \n",
       "...             ...       ...   \n",
       "383284   9400ZZWMSH       NaN   \n",
       "383285   9400ZZWMST       NaN   \n",
       "383480  9400ZZWMCOR       NaN   \n",
       "383692   9400ZZWMBO       NaN   \n",
       "383731  9400ZZWMNWS       NaN   \n",
       "\n",
       "                                                stop_name  stop_lat  stop_lon  \\\n",
       "220835                   Little Aston, Burnett Road (Opp)  52.58518  -1.87227   \n",
       "248071                                 Wishaw, Cock (Adj)  52.54599  -1.75364   \n",
       "249509                           Elmdon, Goodway Rd (opp)  52.45160  -1.76295   \n",
       "249709                     Five Ways, Morrisons (Stop FT)  52.47188  -1.91956   \n",
       "249723          Yardley Wood, Highfield Rd Island (after)  52.42436  -1.84793   \n",
       "...                                                   ...       ...       ...   \n",
       "383284  Winson Green, Soho Benson Road (Midland Metro ...  52.49689  -1.93115   \n",
       "383285  Jewellery Quarter, St Paul's (Midland Metro Stop)  52.48666  -1.90393   \n",
       "383480  Birmingham, Corporation Street (Midland Metro ...  52.47985  -1.89718   \n",
       "383692  Handsworth, Handsworth Booth Street (Midland M...  52.50196  -1.95218   \n",
       "383731  Birmingham, Grand Central New Street (Midland ...  52.47862  -1.89931   \n",
       "\n",
       "        stop_url  vehicle_type                   geometry  \n",
       "220835       NaN           3.0  POINT (-1.87227 52.58518)  \n",
       "248071       NaN           3.0  POINT (-1.75364 52.54599)  \n",
       "249509       NaN           3.0  POINT (-1.76295 52.45160)  \n",
       "249709       NaN           3.0  POINT (-1.91956 52.47188)  \n",
       "249723       NaN           3.0  POINT (-1.84793 52.42436)  \n",
       "...          ...           ...                        ...  \n",
       "383284       NaN           1.0  POINT (-1.93115 52.49689)  \n",
       "383285       NaN           1.0  POINT (-1.90393 52.48666)  \n",
       "383480       NaN           1.0  POINT (-1.89718 52.47985)  \n",
       "383692       NaN           1.0  POINT (-1.95218 52.50196)  \n",
       "383731       NaN           1.0  POINT (-1.89931 52.47862)  \n",
       "\n",
       "[4522 rows x 8 columns]"
      ]
     },
     "execution_count": 181,
     "metadata": {},
     "output_type": "execute_result"
    }
   ],
   "source": [
    "birmingham_stops_geo_df"
   ]
  },
  {
   "cell_type": "code",
   "execution_count": 193,
   "metadata": {},
   "outputs": [
    {
     "name": "stderr",
     "output_type": "stream",
     "text": [
      "<ipython-input-193-4cc6cb95dca3>:1: UserWarning: Geometry is in a geographic CRS. Results from 'buffer' are likely incorrect. Use 'GeoSeries.to_crs()' to re-project geometries to a projected CRS before this operation.\n",
      "\n",
      "  bham_centrepoint.buffer(distance=5)\n"
     ]
    },
    {
     "data": {
      "text/plain": [
       "new_column\n",
       "0    POLYGON ((3.12530 52.48863, 3.10123 51.99855, ...\n",
       "dtype: geometry"
      ]
     },
     "execution_count": 193,
     "metadata": {},
     "output_type": "execute_result"
    }
   ],
   "source": []
  },
  {
   "cell_type": "code",
   "execution_count": 204,
   "metadata": {},
   "outputs": [
    {
     "name": "stderr",
     "output_type": "stream",
     "text": [
      "<ipython-input-204-5b6bd8d64eb4>:2: UserWarning: Geometry is in a geographic CRS. Results from 'centroid' are likely incorrect. Use 'GeoSeries.to_crs()' to re-project geometries to a projected CRS before this operation.\n",
      "\n",
      "  bham_centrepoint = just_birmingham_geom.centroid\n",
      "<ipython-input-200-df91a870538d>:12: UserWarning: Geometry is in a geographic CRS. Results from 'buffer' are likely incorrect. Use 'GeoSeries.to_crs()' to re-project geometries to a projected CRS before this operation.\n",
      "\n",
      "  return centroid.buffer(distance=degrees)\n"
     ]
    },
    {
     "data": {
      "image/png": "[encoded data removed]",
      "text/plain": [
       "<Figure size 432x288 with 1 Axes>"
      ]
     },
     "metadata": {
      "needs_background": "light"
     },
     "output_type": "display_data"
    },
    {
     "name": "stderr",
     "output_type": "stream",
     "text": [
      "1:1: E266 too many leading '#' for block comment\n",
      "1:21: W291 trailing whitespace\n",
      "5:1: E265 block comment should start with '# '\n",
      "5:8: W291 trailing whitespace\n",
      "14:62: E261 at least two spaces before inline comment\n",
      "14:63: E262 inline comment should start with '# '\n",
      "14:80: E501 line too long (97 > 79 characters)\n"
     ]
    }
   ],
   "source": [
    "## Making a centroid \n",
    "bham_centrepoint = just_birmingham_geom.centroid\n",
    "# need to create centroids for the LSOA polygons\n",
    "\n",
    "#buffer \n",
    "buff = draw_5km_buffer(just_birmingham_geom)\n",
    "# need to create buffers for the LSOA polygons\n",
    "\n",
    "\n",
    "fig, ax = plt.subplots()\n",
    "_ = just_birmingham_geom.plot(ax=ax, facecolor='gold')\n",
    "_ = just_birmingham_geom.plot(ax=ax, color='red', markersize=2, alpha=0.1)\n",
    "_ = buff.plot(ax=ax, color='blue', markersize=2, alpha=0.1)\n",
    "_ = bham_centrepoint.plot(ax=ax, color='pink', markersize=45) ## added the centroid into the plot\n",
    "plt.tight_layout()"
   ]
  }
 ],
 "metadata": {
  "kernelspec": {
   "display_name": "Python 3",
   "language": "python",
   "name": "python3"
  },
  "language_info": {
   "codemirror_mode": {
    "name": "ipython",
    "version": 3
   },
   "file_extension": ".py",
   "mimetype": "text/x-python",
   "name": "python",
   "nbconvert_exporter": "python",
   "pygments_lexer": "ipython3",
   "version": "3.8.3"
  }
 },
 "nbformat": 4,
 "nbformat_minor": 4
}
