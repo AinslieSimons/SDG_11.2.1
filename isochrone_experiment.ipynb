{
 "cells": [
  {
   "cell_type": "code",
   "execution_count": 1,
   "metadata": {},
   "outputs": [],
   "source": [
    "import geopandas as gpd\n",
    "from shapely.geometry import Point, LineString, Polygon\n",
    "import networkx as nx\n",
    "import osmnx as ox\n",
    "import matplotlib.pyplot as plt\n",
    "from descartes import PolygonPatch\n",
    "from IPython.display import IFrame\n",
    "ox.config(log_console=True, use_cache=True)"
   ]
  },
  {
   "cell_type": "code",
   "execution_count": null,
   "metadata": {},
   "outputs": [],
   "source": [
    "# 1. Place you are interested\n",
    "place = \"Birmingham, UK\"\n",
    "# 2. Transportation mode\n",
    "mode = \"walk\"\n",
    "# 3 Coordinates\n",
    "coordinates = (51.500734, -0.124518)\n",
    "\n",
    "\n",
    "\n",
    "def create_graph(loc, dist, transport_mode, loc_type=\"address\"):\n",
    "    # Transport mode = ‘walk’, ‘bike’, ‘drive’, ‘drive_service’, ‘all’, ‘all_private’, ‘none’\n",
    "    if loc_type == \"address\":\n",
    "        G = ox.graph_from_address(loc, dist=dist, network_type=transport_mode)\n",
    "    elif loc_type == \"points\":\n",
    "        G = ox.graph_from_point(loc, dist=dist, network_type=transport_mode )\n",
    "    return G"
   ]
  },
  {
   "cell_type": "code",
   "execution_count": null,
   "metadata": {},
   "outputs": [],
   "source": [
    "\n",
    "G = create_graph(loc=coordinates,\n",
    "                 dist=500, \n",
    "                 transport_mode=mode, \n",
    "                 loc_type=\"points\")\n",
    "\n",
    "fig, ax = ox.plot_graph(G);\n",
    "plt.tight_layout()\n",
    "plt.show()"
   ]
  }
 ],
 "metadata": {
  "kernelspec": {
   "display_name": "Python 3",
   "language": "python",
   "name": "python3"
  },
  "language_info": {
   "codemirror_mode": {
    "name": "ipython",
    "version": 3
   },
   "file_extension": ".py",
   "mimetype": "text/x-python",
   "name": "python",
   "nbconvert_exporter": "python",
   "pygments_lexer": "ipython3",
   "version": "3.8.6"
  }
 },
 "nbformat": 4,
 "nbformat_minor": 4
}
