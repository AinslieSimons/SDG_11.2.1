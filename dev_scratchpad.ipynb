{
 "cells": [
  {
   "cell_type": "code",
   "execution_count": 26,
   "metadata": {},
   "outputs": [
    {
     "name": "stdout",
     "output_type": "stream",
     "text": [
      "csv already exists\n"
     ]
    }
   ],
   "source": [
    "# Core imports\n",
    "import os\n",
    "\n",
    "# Third party imports\n",
    "import geopandas as gpd\n",
    "import matplotlib.pyplot as plt\n",
    "import pandas as pd\n",
    "from shapely.ops import unary_union\n",
    "\n",
    "\n",
    "# Module importss\n",
    "from modules import (dl_csv_make_df, find_points_in_poly, geo_df_from_csv,\n",
    "                     geo_df_from_geospatialfile)\n",
    "\n",
    "# TODO: inventory check: why is get_and_save_geo_dataset not used\n",
    "\n",
    "# get current working directory\n",
    "cwd = os.getcwd()\n",
    "\n",
    "# define data directory\n",
    "data_dir = (os.path.join\n",
    "            (cwd,\n",
    "             'data'))\n",
    "\n",
    "# define some params related to zip download\n",
    "zip_link = \"http://naptan.app.dft.gov.uk/DataRequest/Naptan.ashx?format=csv\"\n",
    "zip_name = \"Napatan.zip\"\n",
    "zip_path = os.path.join(data_dir, zip_name)\n",
    "csv_nm = 'Stops.csv'\n",
    "csv_path = os.path.join(data_dir, csv_nm)\n",
    "\n",
    "# Download the zip file and extract the stops csv\n",
    "_ = dl_csv_make_df(csv_nm,\n",
    "                   csv_path,\n",
    "                   zip_name,\n",
    "                   zip_path,\n",
    "                   zip_link,\n",
    "                   data_dir)\n",
    "\n",
    "# Create the geo dataframe with the stops data\n",
    "cols = ['NaptanCode', 'CommonName', 'Easting', 'Northing']\n",
    "\n",
    "stops_geo_df = (geo_df_from_csv(path_to_csv=csv_path,\n",
    "                                delim=',',\n",
    "                                geom_x='Easting',\n",
    "                                geom_y='Northing',\n",
    "                                cols=cols))\n",
    "\n",
    "# # Getting the Lower Super Output Area for the UK into a dataframe\n",
    "uk_LSOA_shp_file = \"Lower_Layer_Super_Output_Areas__December_2011__Boundaries_EW_BGC.shp\"\n",
    "full_path = os.path.join(os.getcwd(), \"data\", \"LSOA_shp\", uk_LSOA_shp_file)\n",
    "uk_LSOA_df = geo_df_from_geospatialfile(path_to_file=full_path)\n",
    "\n",
    "\n",
    "def get_polygons_of_loccode(geo_df, dissolveby='OA11CD', search=None):\n",
    "    \"\"\"\n",
    "    Gets the polygon for a place based on it name, LSOA code or OA code\n",
    "\n",
    "    Parameters:\n",
    "    geo_df: (gpd.Datafame):\n",
    "    loc_code = LSOA11CD, OA11CD or LSOA11NM\n",
    "    search = search terms to find in the LSOA11NM column. Only needed if\n",
    "        intending to dissolve on a name in the LSOA11NM column\n",
    "    Returns: (gpd.DataFrame) agregated multipolygons, agregated on LSOA,\n",
    "        OA code, or a search in the LSOA11NM column\n",
    "    \"\"\"\n",
    "    if dissolveby in ['LSOA11CD', 'OA11CD']:\n",
    "        polygon_df = geo_df.dissolve(by=dissolveby)\n",
    "    else:\n",
    "        filtered_df = geo_df[geo_df[f'{dissolveby}'].str.contains(search)]\n",
    "        filtered_df.insert(0, 'place_name', search)\n",
    "        polygon_df = filtered_df.dissolve(by='place_name')\n",
    "    polygon_df = gpd.GeoDataFrame(polygon_df.pop('geometry'))\n",
    "    return polygon_df\n",
    "\n",
    "\n",
    "just_birmingham_poly = (get_polygons_of_loccode(\n",
    "    geo_df=uk_LSOA_df, dissolveby='LSOA11NM', search=\"Birmingham\"))\n",
    "\n",
    "\n",
    "# Creating Birmingham polygon\n",
    "\n",
    "# just_birmingham_geom = just_birmingham_LSOA.drop([\"FID\",\"LSOA11CD\",\"LSOA11NMW\",\"Age_Indica\", \"Shape__Are\",\"Shape__Len\",\"LSOA11NM\"], axis=1)\n",
    "# # just_birmingham_geom = just_birmingham_LSOA.pop('geometry')\n",
    "\n",
    "# just_birmingham_geom['city'] = \"birmingham\"\n",
    "# # just_birmingham_geom['new_column'] = 0\n",
    "# just_birmingham_geom = just_birmingham_geom.dissolve(by='city')\n",
    "# just_birmingham_geom\n",
    "\n",
    "\n",
    "# Creating a Geo Dataframe of only stops in Birmingham\n",
    "# import ipdb; ipdb.set_trace()\n",
    "birmingham_stops_geo_df = (find_points_in_poly\n",
    "                           (geo_df=stops_geo_df,\n",
    "                            polygon_obj=just_birmingham_poly))\n",
    "\n",
    "\n"
   ]
  },
  {
   "cell_type": "code",
   "execution_count": 27,
   "metadata": {
    "scrolled": true
   },
   "outputs": [
    {
     "name": "stderr",
     "output_type": "stream",
     "text": [
      "/home/james/anaconda3/envs/SDG_11.2.1/lib/python3.8/site-packages/IPython/core/interactiveshell.py:3146: DtypeWarning: Columns (22) have mixed types.Specify dtype option on import or set low_memory=False.\n",
      "  has_raised = await self.run_ast_nodes(code_ast.body, cell_name,\n"
     ]
    }
   ],
   "source": [
    "# Getting the west midlands population\n",
    "Wmids_pop_df = pd.read_csv(os.path.join\n",
    "                           (data_dir,\n",
    "                            'population_estimates',\n",
    "                            'westmids_pop_only.csv'))\n"
   ]
  },
  {
   "cell_type": "code",
   "execution_count": 28,
   "metadata": {},
   "outputs": [],
   "source": [
    "# Get population weighted centroids into a dataframe\n",
    "uk_pop_wtd_centr_df = (geo_df_from_geospatialfile\n",
    "                       (os.path.join\n",
    "                        (data_dir,\n",
    "                         'pop_weighted_centroids')))"
   ]
  },
  {
   "cell_type": "code",
   "execution_count": 29,
   "metadata": {
    "scrolled": true
   },
   "outputs": [],
   "source": [
    "# Understanding was the OA11CD codes look like by taking a sample.\n",
    "uk_pop_wtd_centr_df.sample(10)\n",
    "\n",
    "# Joining the population dataframe to the centroids dataframe\n",
    "Wmids_pop_df = Wmids_pop_df.join(\n",
    "    other=uk_pop_wtd_centr_df.set_index('OA11CD'), on='OA11CD', how='left')\n"
   ]
  },
  {
   "cell_type": "code",
   "execution_count": 74,
   "metadata": {},
   "outputs": [],
   "source": [
    "# TODO: check if this is needed\n",
    "bham_LSOA_df = uk_LSOA_df[uk_LSOA_df.LSOA11NM.str.contains(\"Birmingham\")]\n",
    "bham_LSOA_df = bham_LSOA_df[['LSOA11CD', 'LSOA11NM','geometry']]"
   ]
  },
  {
   "cell_type": "code",
   "execution_count": 75,
   "metadata": {},
   "outputs": [
    {
     "data": {
      "text/html": [
       "<div>\n",
       "<style scoped>\n",
       "    .dataframe tbody tr th:only-of-type {\n",
       "        vertical-align: middle;\n",
       "    }\n",
       "\n",
       "    .dataframe tbody tr th {\n",
       "        vertical-align: top;\n",
       "    }\n",
       "\n",
       "    .dataframe thead th {\n",
       "        text-align: right;\n",
       "    }\n",
       "</style>\n",
       "<table border=\"1\" class=\"dataframe\">\n",
       "  <thead>\n",
       "    <tr style=\"text-align: right;\">\n",
       "      <th></th>\n",
       "      <th>LSOA11CD</th>\n",
       "      <th>LSOA11NM</th>\n",
       "      <th>geometry</th>\n",
       "    </tr>\n",
       "  </thead>\n",
       "  <tbody>\n",
       "    <tr>\n",
       "      <th>7851</th>\n",
       "      <td>E01009100</td>\n",
       "      <td>Birmingham 025D</td>\n",
       "      <td>POLYGON ((413200.676 292367.173, 413122.403 29...</td>\n",
       "    </tr>\n",
       "    <tr>\n",
       "      <th>7853</th>\n",
       "      <td>E01009101</td>\n",
       "      <td>Birmingham 029D</td>\n",
       "      <td>POLYGON ((413726.186 291332.427, 413845.008 29...</td>\n",
       "    </tr>\n",
       "    <tr>\n",
       "      <th>7855</th>\n",
       "      <td>E01009102</td>\n",
       "      <td>Birmingham 028D</td>\n",
       "      <td>POLYGON ((413534.794 291340.195, 413635.776 29...</td>\n",
       "    </tr>\n",
       "    <tr>\n",
       "      <th>8652</th>\n",
       "      <td>E01008881</td>\n",
       "      <td>Birmingham 067A</td>\n",
       "      <td>POLYGON ((412876.688 285871.549, 412942.142 28...</td>\n",
       "    </tr>\n",
       "    <tr>\n",
       "      <th>8653</th>\n",
       "      <td>E01008882</td>\n",
       "      <td>Birmingham 066A</td>\n",
       "      <td>POLYGON ((411667.683 285737.519, 411792.872 28...</td>\n",
       "    </tr>\n",
       "    <tr>\n",
       "      <th>...</th>\n",
       "      <td>...</td>\n",
       "      <td>...</td>\n",
       "      <td>...</td>\n",
       "    </tr>\n",
       "    <tr>\n",
       "      <th>32721</th>\n",
       "      <td>E01033646</td>\n",
       "      <td>Birmingham 031I</td>\n",
       "      <td>POLYGON ((410609.627 291772.410, 410553.336 29...</td>\n",
       "    </tr>\n",
       "    <tr>\n",
       "      <th>32722</th>\n",
       "      <td>E01033647</td>\n",
       "      <td>Birmingham 058E</td>\n",
       "      <td>POLYGON ((410240.798 287278.706, 410275.917 28...</td>\n",
       "    </tr>\n",
       "    <tr>\n",
       "      <th>32723</th>\n",
       "      <td>E01033648</td>\n",
       "      <td>Birmingham 084F</td>\n",
       "      <td>POLYGON ((407764.808 284162.726, 408102.309 28...</td>\n",
       "    </tr>\n",
       "    <tr>\n",
       "      <th>32724</th>\n",
       "      <td>E01033649</td>\n",
       "      <td>Birmingham 058F</td>\n",
       "      <td>POLYGON ((410569.039 287316.619, 410610.171 28...</td>\n",
       "    </tr>\n",
       "    <tr>\n",
       "      <th>32725</th>\n",
       "      <td>E01033650</td>\n",
       "      <td>Birmingham 077F</td>\n",
       "      <td>POLYGON ((409192.601 285158.680, 409317.170 28...</td>\n",
       "    </tr>\n",
       "  </tbody>\n",
       "</table>\n",
       "<p>639 rows × 3 columns</p>\n",
       "</div>"
      ],
      "text/plain": [
       "        LSOA11CD         LSOA11NM  \\\n",
       "7851   E01009100  Birmingham 025D   \n",
       "7853   E01009101  Birmingham 029D   \n",
       "7855   E01009102  Birmingham 028D   \n",
       "8652   E01008881  Birmingham 067A   \n",
       "8653   E01008882  Birmingham 066A   \n",
       "...          ...              ...   \n",
       "32721  E01033646  Birmingham 031I   \n",
       "32722  E01033647  Birmingham 058E   \n",
       "32723  E01033648  Birmingham 084F   \n",
       "32724  E01033649  Birmingham 058F   \n",
       "32725  E01033650  Birmingham 077F   \n",
       "\n",
       "                                                geometry  \n",
       "7851   POLYGON ((413200.676 292367.173, 413122.403 29...  \n",
       "7853   POLYGON ((413726.186 291332.427, 413845.008 29...  \n",
       "7855   POLYGON ((413534.794 291340.195, 413635.776 29...  \n",
       "8652   POLYGON ((412876.688 285871.549, 412942.142 28...  \n",
       "8653   POLYGON ((411667.683 285737.519, 411792.872 28...  \n",
       "...                                                  ...  \n",
       "32721  POLYGON ((410609.627 291772.410, 410553.336 29...  \n",
       "32722  POLYGON ((410240.798 287278.706, 410275.917 28...  \n",
       "32723  POLYGON ((407764.808 284162.726, 408102.309 28...  \n",
       "32724  POLYGON ((410569.039 287316.619, 410610.171 28...  \n",
       "32725  POLYGON ((409192.601 285158.680, 409317.170 28...  \n",
       "\n",
       "[639 rows x 3 columns]"
      ]
     },
     "execution_count": 75,
     "metadata": {},
     "output_type": "execute_result"
    }
   ],
   "source": [
    "bham_LSOA_df"
   ]
  },
  {
   "cell_type": "code",
   "execution_count": 79,
   "metadata": {},
   "outputs": [],
   "source": [
    "# merge the two dataframes limiting to just Birmingham\n",
    "bham_pop_df = Wmids_pop_df.merge(bham_LSOA_df,\n",
    "                                 how='right',\n",
    "                                 left_on='LSOA11CD',\n",
    "                                 right_on='LSOA11CD',\n",
    "                                 suffixes=('_pop', '_LSOA'))"
   ]
  },
  {
   "cell_type": "code",
   "execution_count": 80,
   "metadata": {
    "scrolled": true
   },
   "outputs": [
    {
     "data": {
      "text/html": [
       "<div>\n",
       "<style scoped>\n",
       "    .dataframe tbody tr th:only-of-type {\n",
       "        vertical-align: middle;\n",
       "    }\n",
       "\n",
       "    .dataframe tbody tr th {\n",
       "        vertical-align: top;\n",
       "    }\n",
       "\n",
       "    .dataframe thead th {\n",
       "        text-align: right;\n",
       "    }\n",
       "</style>\n",
       "<table border=\"1\" class=\"dataframe\">\n",
       "  <thead>\n",
       "    <tr style=\"text-align: right;\">\n",
       "      <th></th>\n",
       "      <th>OA11CD</th>\n",
       "      <th>LSOA11CD</th>\n",
       "      <th>All Ages</th>\n",
       "      <th>0</th>\n",
       "      <th>1</th>\n",
       "      <th>2</th>\n",
       "      <th>3</th>\n",
       "      <th>4</th>\n",
       "      <th>5</th>\n",
       "      <th>6</th>\n",
       "      <th>...</th>\n",
       "      <th>85</th>\n",
       "      <th>86</th>\n",
       "      <th>87</th>\n",
       "      <th>88</th>\n",
       "      <th>89</th>\n",
       "      <th>90+</th>\n",
       "      <th>OBJECTID</th>\n",
       "      <th>geometry_pop</th>\n",
       "      <th>LSOA11NM</th>\n",
       "      <th>geometry_LSOA</th>\n",
       "    </tr>\n",
       "  </thead>\n",
       "  <tbody>\n",
       "    <tr>\n",
       "      <th>0</th>\n",
       "      <td>E00046134</td>\n",
       "      <td>E01009100</td>\n",
       "      <td>320</td>\n",
       "      <td>1</td>\n",
       "      <td>4</td>\n",
       "      <td>4</td>\n",
       "      <td>1</td>\n",
       "      <td>3</td>\n",
       "      <td>5</td>\n",
       "      <td>2</td>\n",
       "      <td>...</td>\n",
       "      <td>2</td>\n",
       "      <td>1</td>\n",
       "      <td>1</td>\n",
       "      <td>2</td>\n",
       "      <td>1</td>\n",
       "      <td>5</td>\n",
       "      <td>133250</td>\n",
       "      <td>POINT (412618.625 291362.529)</td>\n",
       "      <td>Birmingham 025D</td>\n",
       "      <td>POLYGON ((413200.676 292367.173, 413122.403 29...</td>\n",
       "    </tr>\n",
       "    <tr>\n",
       "      <th>1</th>\n",
       "      <td>E00046136</td>\n",
       "      <td>E01009100</td>\n",
       "      <td>358</td>\n",
       "      <td>4</td>\n",
       "      <td>4</td>\n",
       "      <td>2</td>\n",
       "      <td>6</td>\n",
       "      <td>7</td>\n",
       "      <td>8</td>\n",
       "      <td>5</td>\n",
       "      <td>...</td>\n",
       "      <td>0</td>\n",
       "      <td>4</td>\n",
       "      <td>0</td>\n",
       "      <td>1</td>\n",
       "      <td>2</td>\n",
       "      <td>4</td>\n",
       "      <td>133246</td>\n",
       "      <td>POINT (412705.789 291126.947)</td>\n",
       "      <td>Birmingham 025D</td>\n",
       "      <td>POLYGON ((413200.676 292367.173, 413122.403 29...</td>\n",
       "    </tr>\n",
       "    <tr>\n",
       "      <th>2</th>\n",
       "      <td>E00046145</td>\n",
       "      <td>E01009100</td>\n",
       "      <td>201</td>\n",
       "      <td>1</td>\n",
       "      <td>1</td>\n",
       "      <td>2</td>\n",
       "      <td>3</td>\n",
       "      <td>1</td>\n",
       "      <td>4</td>\n",
       "      <td>1</td>\n",
       "      <td>...</td>\n",
       "      <td>0</td>\n",
       "      <td>1</td>\n",
       "      <td>0</td>\n",
       "      <td>0</td>\n",
       "      <td>0</td>\n",
       "      <td>2</td>\n",
       "      <td>131136</td>\n",
       "      <td>POINT (412594.979 292012.980)</td>\n",
       "      <td>Birmingham 025D</td>\n",
       "      <td>POLYGON ((413200.676 292367.173, 413122.403 29...</td>\n",
       "    </tr>\n",
       "    <tr>\n",
       "      <th>3</th>\n",
       "      <td>E00046184</td>\n",
       "      <td>E01009100</td>\n",
       "      <td>335</td>\n",
       "      <td>7</td>\n",
       "      <td>1</td>\n",
       "      <td>3</td>\n",
       "      <td>5</td>\n",
       "      <td>6</td>\n",
       "      <td>3</td>\n",
       "      <td>2</td>\n",
       "      <td>...</td>\n",
       "      <td>4</td>\n",
       "      <td>2</td>\n",
       "      <td>3</td>\n",
       "      <td>3</td>\n",
       "      <td>2</td>\n",
       "      <td>14</td>\n",
       "      <td>132183</td>\n",
       "      <td>POINT (412710.933 292168.295)</td>\n",
       "      <td>Birmingham 025D</td>\n",
       "      <td>POLYGON ((413200.676 292367.173, 413122.403 29...</td>\n",
       "    </tr>\n",
       "    <tr>\n",
       "      <th>4</th>\n",
       "      <td>E00175609</td>\n",
       "      <td>E01009100</td>\n",
       "      <td>244</td>\n",
       "      <td>5</td>\n",
       "      <td>3</td>\n",
       "      <td>4</td>\n",
       "      <td>1</td>\n",
       "      <td>6</td>\n",
       "      <td>5</td>\n",
       "      <td>6</td>\n",
       "      <td>...</td>\n",
       "      <td>0</td>\n",
       "      <td>1</td>\n",
       "      <td>1</td>\n",
       "      <td>0</td>\n",
       "      <td>0</td>\n",
       "      <td>2</td>\n",
       "      <td>133854</td>\n",
       "      <td>POINT (412670.918 291843.864)</td>\n",
       "      <td>Birmingham 025D</td>\n",
       "      <td>POLYGON ((413200.676 292367.173, 413122.403 29...</td>\n",
       "    </tr>\n",
       "  </tbody>\n",
       "</table>\n",
       "<p>5 rows × 98 columns</p>\n",
       "</div>"
      ],
      "text/plain": [
       "      OA11CD   LSOA11CD All Ages  0  1  2  3  4  5  6  ...  85  86  87  88  \\\n",
       "0  E00046134  E01009100      320  1  4  4  1  3  5  2  ...   2   1   1   2   \n",
       "1  E00046136  E01009100      358  4  4  2  6  7  8  5  ...   0   4   0   1   \n",
       "2  E00046145  E01009100      201  1  1  2  3  1  4  1  ...   0   1   0   0   \n",
       "3  E00046184  E01009100      335  7  1  3  5  6  3  2  ...   4   2   3   3   \n",
       "4  E00175609  E01009100      244  5  3  4  1  6  5  6  ...   0   1   1   0   \n",
       "\n",
       "   89  90+  OBJECTID                   geometry_pop         LSOA11NM  \\\n",
       "0   1    5    133250  POINT (412618.625 291362.529)  Birmingham 025D   \n",
       "1   2    4    133246  POINT (412705.789 291126.947)  Birmingham 025D   \n",
       "2   0    2    131136  POINT (412594.979 292012.980)  Birmingham 025D   \n",
       "3   2   14    132183  POINT (412710.933 292168.295)  Birmingham 025D   \n",
       "4   0    2    133854  POINT (412670.918 291843.864)  Birmingham 025D   \n",
       "\n",
       "                                       geometry_LSOA  \n",
       "0  POLYGON ((413200.676 292367.173, 413122.403 29...  \n",
       "1  POLYGON ((413200.676 292367.173, 413122.403 29...  \n",
       "2  POLYGON ((413200.676 292367.173, 413122.403 29...  \n",
       "3  POLYGON ((413200.676 292367.173, 413122.403 29...  \n",
       "4  POLYGON ((413200.676 292367.173, 413122.403 29...  \n",
       "\n",
       "[5 rows x 98 columns]"
      ]
     },
     "execution_count": 80,
     "metadata": {},
     "output_type": "execute_result"
    }
   ],
   "source": [
    "bham_pop_df.head()"
   ]
  },
  {
   "cell_type": "code",
   "execution_count": 32,
   "metadata": {},
   "outputs": [],
   "source": [
    "# rename the All Ages column\n",
    "bham_pop_df.rename(columns={\"All Ages\":\"pop_count\"}, inplace=True)"
   ]
  },
  {
   "cell_type": "code",
   "execution_count": 33,
   "metadata": {},
   "outputs": [],
   "source": [
    "# change pop_count to number (int)\n",
    "bham_pop_df['pop_count'] = pd.to_numeric(bham_pop_df.pop_count.str.replace(\",\", \"\"))"
   ]
  },
  {
   "cell_type": "code",
   "execution_count": 34,
   "metadata": {
    "scrolled": true
   },
   "outputs": [],
   "source": [
    "def buffer_points(geo_df, distance_km=500):\n",
    "    \"\"\"\n",
    "    Provide a Geo Dataframe with points you want buffering.\n",
    "    Draws a 5km (radius) buffer around the points.\n",
    "    Puts the results into a new column called \"buffered\"\n",
    "    As 'epsg:27700' projections units of km, 500m is 0.5km.\n",
    "    \"\"\"\n",
    "    geo_df['geometry'] = geo_df.geometry.buffer(distance_km)\n",
    "    return geo_df\n"
   ]
  },
  {
   "cell_type": "code",
   "execution_count": 35,
   "metadata": {},
   "outputs": [],
   "source": [
    "_ = buffer_points(birmingham_stops_geo_df)"
   ]
  },
  {
   "cell_type": "code",
   "execution_count": 36,
   "metadata": {
    "scrolled": false
   },
   "outputs": [],
   "source": [
    "# TODO: try to join all the birmingham buffered stops together\n",
    "# to get the service area, then plot them\n",
    "\n",
    "bham_stops_geo_df = birmingham_stops_geo_df\n"
   ]
  },
  {
   "cell_type": "code",
   "execution_count": 37,
   "metadata": {
    "scrolled": true
   },
   "outputs": [],
   "source": [
    "# grab some coordinates for a little section of birmingham\n",
    "ag_east_north = pd.read_csv('Acocks_Green_postcodes.csv', usecols=['Easting', 'Northing'])\n",
    "\n",
    "eastings = [easting for easting in ag_east_north.Easting]\n",
    "northings = [northing for northing in ag_east_north.Northing]\n",
    "east_min = min(eastings)\n",
    "east_max = max(eastings)\n",
    "north_min = min(northings)\n",
    "north_max = max(northings)"
   ]
  },
  {
   "cell_type": "code",
   "execution_count": 44,
   "metadata": {},
   "outputs": [],
   "source": [
    "# limit the stops, filtering by the min/max eastings/northings for Acocks Green\n",
    "north_mask = (north_min < birmingham_stops_geo_df['Northing']) & (birmingham_stops_geo_df['Northing'] < north_max)\n",
    "east_mask = (east_min < birmingham_stops_geo_df['Easting']) & (birmingham_stops_geo_df['Easting'] < east_max)\n",
    "# Filter the stops \n",
    "ag_stops_geo_df = birmingham_stops_geo_df[north_mask & east_mask]"
   ]
  },
  {
   "cell_type": "code",
   "execution_count": 45,
   "metadata": {},
   "outputs": [],
   "source": [
    "ag_stops_poly = unary_union(list(ag_stops_geo_df.geometry))"
   ]
  },
  {
   "cell_type": "code",
   "execution_count": 46,
   "metadata": {
    "scrolled": true
   },
   "outputs": [
    {
     "data": {
      "image/svg+xml": [
       "<svg xmlns=\"http://www.w3.org/2000/svg\" xmlns:xlink=\"http://www.w3.org/1999/xlink\" width=\"300\" height=\"300\" viewBox=\"410463.84 280678.84 3207.319999999949 4270.319999999949\" preserveAspectRatio=\"xMinYMin meet\"><g transform=\"matrix(1,0,0,-1,0,565628.0)\"><path fill-rule=\"evenodd\" fill=\"#66cc99\" stroke=\"#555555\" stroke-width=\"28.468799999999657\" opacity=\"0.6\" d=\"M 411945.97404502146,281025.8288619275 L 411941.50522668136,281019.80335791816 L 411908.55339059327,280983.44660940673 L 411872.19664208184,280950.49477331864 L 411832.7851165098,280921.26519384875 L 411790.698368413,280896.03936782584 L 411746.34171618253,280875.0602337444 L 411700.14233862725,280858.5298321339 L 411652.5451610081,280846.6073597984 L 411604.0085701648,280839.4076366639 L 411555.0,280837.0 L 411505.9914298352,280839.4076366639 L 411496.72606047767,280840.78202437743 L 411483.9914298352,280841.4076366639 L 411435.4548389919,280848.6073597984 L 411387.85766137275,280860.5298321339 L 411341.65828381747,280877.0602337444 L 411297.301631587,280898.03936782584 L 411255.2148834902,280923.26519384875 L 411215.80335791816,280952.49477331864 L 411179.44660940673,280985.44660940673 L 411146.49477331864,281021.80335791816 L 411145.76090184815,281022.7928690487 L 411122.85766137275,281028.5298321339 L 411076.65828381747,281045.0602337444 L 411032.301631587,281066.03936782584 L 410990.2148834902,281091.26519384875 L 410950.80335791816,281120.49477331864 L 410914.44660940673,281153.44660940673 L 410881.49477331864,281189.80335791816 L 410852.26519384875,281229.2148834902 L 410827.03936782584,281271.301631587 L 410806.0602337444,281315.65828381747 L 410789.5298321339,281361.85766137275 L 410777.6073597984,281409.4548389919 L 410770.4076366639,281457.9914298352 L 410768.0,281507.0 L 410770.4076366639,281556.0085701648 L 410776.45127261395,281596.7514542776 L 410746.49477331864,281629.80335791816 L 410717.26519384875,281669.2148834902 L 410692.03936782584,281711.301631587 L 410671.0602337444,281755.65828381747 L 410654.5298321339,281801.85766137275 L 410642.6073597984,281849.4548389919 L 410639.3026006717,281871.7337153555 L 410631.6073597984,281902.4548389919 L 410624.4076366639,281950.9914298352 L 410622.0,282000.0 L 410624.4076366639,282049.0085701648 L 410631.6073597984,282097.5451610081 L 410643.5298321339,282145.14233862725 L 410660.0602337444,282191.34171618253 L 410681.03936782584,282235.698368413 L 410706.26519384875,282277.7851165098 L 410735.49477331864,282317.19664208184 L 410766.2619885047,282351.1430328664 L 410775.5298321339,282388.14233862725 L 410792.0602337444,282434.34171618253 L 410810.62581064535,282473.5953305051 L 410796.44660940673,282486.44660940673 L 410763.49477331864,282522.80335791816 L 410734.26519384875,282562.2148834902 L 410709.03936782584,282604.301631587 L 410688.0602337444,282648.65828381747 L 410671.5298321339,282694.85766137275 L 410659.6073597984,282742.4548389919 L 410652.4076366639,282790.9914298352 L 410650.0,282840.0 L 410652.4076366639,282889.0085701648 L 410659.6073597984,282937.5451610081 L 410659.7232388756,282938.00777621625 L 410657.6073597984,282946.4548389919 L 410650.4076366639,282994.9914298352 L 410648.0,283044.0 L 410650.4076366639,283093.0085701648 L 410657.6073597984,283141.5451610081 L 410669.5298321339,283189.14233862725 L 410686.0602337444,283235.34171618253 L 410707.03936782584,283279.698368413 L 410732.26519384875,283321.7851165098 L 410761.49477331864,283361.19664208184 L 410794.44660940673,283397.55339059327 L 410798.3536173634,283401.0944961941 L 410781.0602337444,283437.65828381747 L 410764.5298321339,283483.85766137275 L 410752.6073597984,283531.4548389919 L 410746.20195230533,283574.63658874366 L 410724.26519384875,283604.2148834902 L 410699.03936782584,283646.301631587 L 410678.0602337444,283690.65828381747 L 410661.5298321339,283736.85766137275 L 410649.6073597984,283784.4548389919 L 410642.4076366639,283832.9914298352 L 410640.0,283882.0 L 410642.4076366639,283931.0085701648 L 410649.6073597984,283979.5451610081 L 410661.5298321339,284027.14233862725 L 410678.0602337444,284073.34171618253 L 410699.03936782584,284117.698368413 L 410724.26519384875,284159.7851165098 L 410753.49477331864,284199.19664208184 L 410768.00081774534,284215.2015957272 L 410773.0602337444,284229.34171618253 L 410794.03936782584,284273.698368413 L 410819.26519384875,284315.7851165098 L 410848.49477331864,284355.19664208184 L 410881.44660940673,284391.55339059327 L 410917.80335791816,284424.50522668136 L 410957.2148834902,284453.73480615125 L 410999.301631587,284478.96063217416 L 411043.65828381747,284499.9397662556 L 411089.85766137275,284516.4701678661 L 411137.4548389919,284528.3926402016 L 411166.9552879182,284532.76861842594 L 411192.301631587,284547.96063217416 L 411236.65828381747,284568.9397662556 L 411282.85766137275,284585.4701678661 L 411330.4548389919,284597.3926402016 L 411343.6362915176,284599.3479239792 L 411379.2148834902,284625.73480615125 L 411421.301631587,284650.96063217416 L 411465.65828381747,284671.9397662556 L 411511.85766137275,284688.4701678661 L 411559.4548389919,284700.3926402016 L 411607.9914298352,284707.5923633361 L 411657.0,284710.0 L 411706.0085701648,284707.5923633361 L 411754.5451610081,284700.3926402016 L 411762.0194405406,284698.5204306419 L 411789.4548389919,284705.3926402016 L 411837.9914298352,284712.5923633361 L 411887.0,284715.0 L 411936.0085701648,284712.5923633361 L 411984.5451610081,284705.3926402016 L 412032.14233862725,284693.4701678661 L 412065.99671091646,284681.35687976953 L 412100.2148834902,284706.73480615125 L 412142.301631587,284731.96063217416 L 412186.65828381747,284752.9397662556 L 412232.85766137275,284769.4701678661 L 412280.4548389919,284781.3926402016 L 412328.9914298352,284788.5923633361 L 412378.0,284791.0 L 412427.0085701648,284788.5923633361 L 412475.5451610081,284781.3926402016 L 412523.14233862725,284769.4701678661 L 412569.34171618253,284752.9397662557 L 412613.698368413,284731.96063217416 L 412655.7851165098,284706.73480615125 L 412695.19664208184,284677.50522668136 L 412731.55339059327,284644.55339059327 L 412764.50522668136,284608.19664208184 L 412793.73480615125,284568.7851165098 L 412794.11969343235,284568.1429708758 L 412807.73480615125,284549.7851165098 L 412832.96063217416,284507.698368413 L 412853.9397662556,284463.34171618253 L 412870.4701678661,284417.14233862725 L 412874.95262568584,284399.24736390956 L 412915.4548389919,284409.3926402016 L 412963.9914298352,284416.5923633361 L 413013.0,284419.0 L 413062.0085701648,284416.5923633361 L 413110.5451610081,284409.3926402016 L 413158.14233862725,284397.4701678661 L 413204.34171618253,284380.9397662557 L 413248.698368413,284359.96063217416 L 413290.7851165098,284334.73480615125 L 413330.19664208184,284305.50522668136 L 413366.55339059327,284272.55339059327 L 413399.50522668136,284236.19664208184 L 413428.73480615125,284196.7851165098 L 413453.96063217416,284154.698368413 L 413474.9397662556,284110.34171618253 L 413491.4701678661,284064.14233862725 L 413503.3926402016,284016.5451610081 L 413510.5923633361,283968.0085701648 L 413513.0,283919.0 L 413510.5923633361,283869.9914298352 L 413503.3926402016,283821.4548389919 L 413491.4701678661,283773.85766137275 L 413474.9397662556,283727.65828381747 L 413474.68566522497,283727.1210323273 L 413475.5923633361,283721.0085701648 L 413478.0,283672.0 L 413475.5923633361,283622.9914298352 L 413468.3926402016,283574.4548389919 L 413456.4701678661,283526.85766137275 L 413439.9397662556,283480.65828381747 L 413418.96063217416,283436.301631587 L 413393.73480615125,283394.2148834902 L 413364.50522668136,283354.80335791816 L 413331.55339059327,283318.44660940673 L 413295.19664208184,283285.49477331864 L 413255.7851165098,283256.26519384875 L 413213.698368413,283231.03936782584 L 413169.34171618253,283210.0602337444 L 413157.00492665864,283205.6460598701 L 413171.73480615125,283185.7851165098 L 413196.96063217416,283143.698368413 L 413217.9397662556,283099.34171618253 L 413234.4701678661,283053.14233862725 L 413246.3926402016,283005.5451610081 L 413253.5923633361,282957.0085701648 L 413256.0,282908.0 L 413253.5923633361,282858.9914298352 L 413246.3926402016,282810.4548389919 L 413242.915762139,282796.5743636971 L 413242.5923633361,282789.9914298352 L 413241.2653189202,282781.0452230655 L 413239.5923633361,282746.9914298352 L 413232.3926402016,282698.4548389919 L 413220.4701678661,282650.85766137275 L 413203.9397662556,282604.65828381747 L 413182.96063217416,282560.301631587 L 413157.73480615125,282518.2148834902 L 413148.33343262033,282505.5385987113 L 413146.3926402016,282492.4548389919 L 413134.4701678661,282444.85766137275 L 413117.9397662556,282398.65828381747 L 413109.8399943686,282381.5327550257 L 413100.9397662556,282356.65828381747 L 413100.5199938505,282355.7707496362 L 413101.0,282346.0 L 413098.5923633361,282296.9914298352 L 413091.3926402016,282248.4548389919 L 413084.1010007686,282219.34498262475 L 413083.5923633361,282208.9914298352 L 413076.3926402016,282160.4548389919 L 413064.4701678661,282112.85766137275 L 413047.9397662556,282066.65828381747 L 413026.96063217416,282022.301631587 L 413001.73480615125,281980.2148834902 L 412972.50522668136,281940.80335791816 L 412939.55339059327,281904.44660940673 L 412903.19664208184,281871.49477331864 L 412863.7851165098,281842.26519384875 L 412821.698368413,281817.03936782584 L 412777.34171618253,281796.0602337444 L 412735.2619949168,281781.00386872416 L 412722.50522668136,281763.80335791816 L 412689.55339059327,281727.44660940673 L 412662.5200191179,281702.944989701 L 412668.5923633361,281662.0085701648 L 412671.0,281613.0 L 412670.7173412113,281607.24634817755 L 412671.4701678661,281605.14233862725 L 412683.3926402016,281557.5451610081 L 412690.5923633361,281509.0085701648 L 412693.0,281460.0 L 412690.5923633361,281410.9914298352 L 412683.3926402016,281362.4548389919 L 412671.4701678661,281314.85766137275 L 412654.9397662556,281268.65828381747 L 412633.96063217416,281224.301631587 L 412608.73480615125,281182.2148834902 L 412579.50522668136,281142.80335791816 L 412546.55339059327,281106.44660940673 L 412510.19664208184,281073.49477331864 L 412470.7851165098,281044.26519384875 L 412428.698368413,281019.03936782584 L 412384.34171618253,280998.0602337444 L 412338.14233862725,280981.5298321339 L 412290.5451610081,280969.6073597984 L 412242.0085701648,280962.4076366639 L 412193.0,280960.0 L 412143.9914298352,280962.4076366639 L 412095.4548389919,280969.6073597984 L 412047.85766137275,280981.5298321339 L 412001.65828381747,280998.0602337444 L 411957.301631587,281019.03936782584 L 411945.97404502146,281025.8288619275 z\" /></g></svg>"
      ],
      "text/plain": [
       "<shapely.geometry.polygon.Polygon at 0x7f894cacdd30>"
      ]
     },
     "execution_count": 46,
     "metadata": {},
     "output_type": "execute_result"
    }
   ],
   "source": [
    "ag_stops_poly"
   ]
  },
  {
   "cell_type": "code",
   "execution_count": 48,
   "metadata": {},
   "outputs": [],
   "source": [
    "bham_stops_poly = unary_union(list(birmingham_stops_geo_df.geometry))"
   ]
  },
  {
   "cell_type": "code",
   "execution_count": 315,
   "metadata": {},
   "outputs": [],
   "source": [
    "bham_stops_geo_df['diss'] = 'Birmingham'\n",
    "bham_buffd_stops = bham_stops_geo_df.dissolve(by='diss')['geometry']"
   ]
  },
  {
   "cell_type": "code",
   "execution_count": 68,
   "metadata": {
    "scrolled": true
   },
   "outputs": [
    {
     "data": {
      "image/png": "[encoded data removed]",
      "text/plain": [
       "<Figure size 432x288 with 1 Axes>"
      ]
     },
     "metadata": {
      "needs_background": "light"
     },
     "output_type": "display_data"
    }
   ],
   "source": [
    "# Get all the buffered stops in Birmingham on to a map of Birmingham\n",
    "fig, ax = plt.subplots()\n",
    "p = gpd.GeoSeries(bham_stops_poly)\n",
    "# Plot Acocks Green only stops\n",
    "a = gpd.GeoSeries(ag_stops_poly)\n",
    "p.plot(ax=ax)\n",
    "a.plot(ax=ax, color='gold')\n",
    "plt.show()\n",
    "fig.savefig('bham_ag_stops.png') "
   ]
  },
  {
   "cell_type": "code",
   "execution_count": 67,
   "metadata": {},
   "outputs": [
    {
     "data": {
      "image/png": "[encoded data removed]",
      "text/plain": [
       "<Figure size 432x288 with 1 Axes>"
      ]
     },
     "execution_count": 67,
     "metadata": {},
     "output_type": "execute_result"
    }
   ],
   "source": [
    "fig"
   ]
  },
  {
   "cell_type": "code",
   "execution_count": 22,
   "metadata": {},
   "outputs": [
    {
     "data": {
      "text/plain": [
       "1141816"
      ]
     },
     "execution_count": 22,
     "metadata": {},
     "output_type": "execute_result"
    }
   ],
   "source": [
    "bham_pop_df['pop_count'].sum()"
   ]
  },
  {
   "cell_type": "code",
   "execution_count": 47,
   "metadata": {},
   "outputs": [
    {
     "data": {
      "text/html": [
       "<div>\n",
       "<style scoped>\n",
       "    .dataframe tbody tr th:only-of-type {\n",
       "        vertical-align: middle;\n",
       "    }\n",
       "\n",
       "    .dataframe tbody tr th {\n",
       "        vertical-align: top;\n",
       "    }\n",
       "\n",
       "    .dataframe thead th {\n",
       "        text-align: right;\n",
       "    }\n",
       "</style>\n",
       "<table border=\"1\" class=\"dataframe\">\n",
       "  <thead>\n",
       "    <tr style=\"text-align: right;\">\n",
       "      <th></th>\n",
       "      <th>NaptanCode</th>\n",
       "      <th>CommonName</th>\n",
       "      <th>Easting</th>\n",
       "      <th>Northing</th>\n",
       "      <th>geometry</th>\n",
       "      <th>place</th>\n",
       "    </tr>\n",
       "  </thead>\n",
       "  <tbody>\n",
       "    <tr>\n",
       "      <th>133809</th>\n",
       "      <td>wocdjdam</td>\n",
       "      <td>Groveley Lane- Chestnut Drive</td>\n",
       "      <td>400503</td>\n",
       "      <td>275966</td>\n",
       "      <td>POLYGON ((400503.500 275966.000, 400503.498 27...</td>\n",
       "      <td>Birmingham</td>\n",
       "    </tr>\n",
       "    <tr>\n",
       "      <th>133932</th>\n",
       "      <td>wocdgwmt</td>\n",
       "      <td>Grovely Corner-</td>\n",
       "      <td>403083</td>\n",
       "      <td>277083</td>\n",
       "      <td>POLYGON ((403083.500 277083.000, 403083.498 27...</td>\n",
       "      <td>Birmingham</td>\n",
       "    </tr>\n",
       "    <tr>\n",
       "      <th>135404</th>\n",
       "      <td>wocdtmdw</td>\n",
       "      <td>Edenhurst Road</td>\n",
       "      <td>401532</td>\n",
       "      <td>276681</td>\n",
       "      <td>POLYGON ((401532.500 276681.000, 401532.498 27...</td>\n",
       "      <td>Birmingham</td>\n",
       "    </tr>\n",
       "    <tr>\n",
       "      <th>136947</th>\n",
       "      <td>wocgmpwt</td>\n",
       "      <td>Longbridge- Groveley Lane- Coombs Lane</td>\n",
       "      <td>401662</td>\n",
       "      <td>276707</td>\n",
       "      <td>POLYGON ((401662.500 276707.000, 401662.498 27...</td>\n",
       "      <td>Birmingham</td>\n",
       "    </tr>\n",
       "    <tr>\n",
       "      <th>136948</th>\n",
       "      <td>wocgmtad</td>\n",
       "      <td>Longbridge- Groveley Lane- Coombs Lane</td>\n",
       "      <td>401689</td>\n",
       "      <td>276794</td>\n",
       "      <td>POLYGON ((401689.500 276794.000, 401689.498 27...</td>\n",
       "      <td>Birmingham</td>\n",
       "    </tr>\n",
       "  </tbody>\n",
       "</table>\n",
       "</div>"
      ],
      "text/plain": [
       "       NaptanCode                              CommonName  Easting  Northing  \\\n",
       "133809   wocdjdam           Groveley Lane- Chestnut Drive   400503    275966   \n",
       "133932   wocdgwmt                         Grovely Corner-   403083    277083   \n",
       "135404   wocdtmdw                          Edenhurst Road   401532    276681   \n",
       "136947   wocgmpwt  Longbridge- Groveley Lane- Coombs Lane   401662    276707   \n",
       "136948   wocgmtad  Longbridge- Groveley Lane- Coombs Lane   401689    276794   \n",
       "\n",
       "                                                 geometry       place  \n",
       "133809  POLYGON ((400503.500 275966.000, 400503.498 27...  Birmingham  \n",
       "133932  POLYGON ((403083.500 277083.000, 403083.498 27...  Birmingham  \n",
       "135404  POLYGON ((401532.500 276681.000, 401532.498 27...  Birmingham  \n",
       "136947  POLYGON ((401662.500 276707.000, 401662.498 27...  Birmingham  \n",
       "136948  POLYGON ((401689.500 276794.000, 401689.498 27...  Birmingham  "
      ]
     },
     "execution_count": 47,
     "metadata": {},
     "output_type": "execute_result"
    }
   ],
   "source": [
    "birmingham_stops_geo_df.head()"
   ]
  },
  {
   "cell_type": "code",
   "execution_count": 45,
   "metadata": {
    "scrolled": true
   },
   "outputs": [
    {
     "data": {
      "image/png": "[encoded data removed]",
      "text/plain": [
       "<Figure size 432x288 with 1 Axes>"
      ]
     },
     "metadata": {
      "needs_background": "light"
     },
     "output_type": "display_data"
    }
   ],
   "source": [
    "fig, ax = plt.subplots()\n",
    "_ = just_birmingham_poly.plot(ax=ax, color='gold', alpha=0.4)\n",
    "_ = birmingham_stops_geo_df.plot(ax=ax, color='black', markersize=0.1, alpha=0.8)\n"
   ]
  },
  {
   "cell_type": "code",
   "execution_count": 48,
   "metadata": {},
   "outputs": [
    {
     "data": {
      "text/html": [
       "<div>\n",
       "<style scoped>\n",
       "    .dataframe tbody tr th:only-of-type {\n",
       "        vertical-align: middle;\n",
       "    }\n",
       "\n",
       "    .dataframe tbody tr th {\n",
       "        vertical-align: top;\n",
       "    }\n",
       "\n",
       "    .dataframe thead th {\n",
       "        text-align: right;\n",
       "    }\n",
       "</style>\n",
       "<table border=\"1\" class=\"dataframe\">\n",
       "  <thead>\n",
       "    <tr style=\"text-align: right;\">\n",
       "      <th></th>\n",
       "      <th>NaptanCode</th>\n",
       "      <th>CommonName</th>\n",
       "      <th>Easting</th>\n",
       "      <th>Northing</th>\n",
       "      <th>geometry</th>\n",
       "      <th>place</th>\n",
       "    </tr>\n",
       "  </thead>\n",
       "  <tbody>\n",
       "    <tr>\n",
       "      <th>133809</th>\n",
       "      <td>wocdjdam</td>\n",
       "      <td>Groveley Lane- Chestnut Drive</td>\n",
       "      <td>400503</td>\n",
       "      <td>275966</td>\n",
       "      <td>POLYGON ((400503.500 275966.000, 400503.498 27...</td>\n",
       "      <td>Birmingham</td>\n",
       "    </tr>\n",
       "    <tr>\n",
       "      <th>133932</th>\n",
       "      <td>wocdgwmt</td>\n",
       "      <td>Grovely Corner-</td>\n",
       "      <td>403083</td>\n",
       "      <td>277083</td>\n",
       "      <td>POLYGON ((403083.500 277083.000, 403083.498 27...</td>\n",
       "      <td>Birmingham</td>\n",
       "    </tr>\n",
       "    <tr>\n",
       "      <th>135404</th>\n",
       "      <td>wocdtmdw</td>\n",
       "      <td>Edenhurst Road</td>\n",
       "      <td>401532</td>\n",
       "      <td>276681</td>\n",
       "      <td>POLYGON ((401532.500 276681.000, 401532.498 27...</td>\n",
       "      <td>Birmingham</td>\n",
       "    </tr>\n",
       "    <tr>\n",
       "      <th>136947</th>\n",
       "      <td>wocgmpwt</td>\n",
       "      <td>Longbridge- Groveley Lane- Coombs Lane</td>\n",
       "      <td>401662</td>\n",
       "      <td>276707</td>\n",
       "      <td>POLYGON ((401662.500 276707.000, 401662.498 27...</td>\n",
       "      <td>Birmingham</td>\n",
       "    </tr>\n",
       "    <tr>\n",
       "      <th>136948</th>\n",
       "      <td>wocgmtad</td>\n",
       "      <td>Longbridge- Groveley Lane- Coombs Lane</td>\n",
       "      <td>401689</td>\n",
       "      <td>276794</td>\n",
       "      <td>POLYGON ((401689.500 276794.000, 401689.498 27...</td>\n",
       "      <td>Birmingham</td>\n",
       "    </tr>\n",
       "  </tbody>\n",
       "</table>\n",
       "</div>"
      ],
      "text/plain": [
       "       NaptanCode                              CommonName  Easting  Northing  \\\n",
       "133809   wocdjdam           Groveley Lane- Chestnut Drive   400503    275966   \n",
       "133932   wocdgwmt                         Grovely Corner-   403083    277083   \n",
       "135404   wocdtmdw                          Edenhurst Road   401532    276681   \n",
       "136947   wocgmpwt  Longbridge- Groveley Lane- Coombs Lane   401662    276707   \n",
       "136948   wocgmtad  Longbridge- Groveley Lane- Coombs Lane   401689    276794   \n",
       "\n",
       "                                                 geometry       place  \n",
       "133809  POLYGON ((400503.500 275966.000, 400503.498 27...  Birmingham  \n",
       "133932  POLYGON ((403083.500 277083.000, 403083.498 27...  Birmingham  \n",
       "135404  POLYGON ((401532.500 276681.000, 401532.498 27...  Birmingham  \n",
       "136947  POLYGON ((401662.500 276707.000, 401662.498 27...  Birmingham  \n",
       "136948  POLYGON ((401689.500 276794.000, 401689.498 27...  Birmingham  "
      ]
     },
     "execution_count": 48,
     "metadata": {},
     "output_type": "execute_result"
    }
   ],
   "source": [
    "birmingham_stops_geo_df.head()"
   ]
  },
  {
   "cell_type": "code",
   "execution_count": 49,
   "metadata": {},
   "outputs": [
    {
     "data": {
      "text/html": [
       "<div>\n",
       "<style scoped>\n",
       "    .dataframe tbody tr th:only-of-type {\n",
       "        vertical-align: middle;\n",
       "    }\n",
       "\n",
       "    .dataframe tbody tr th {\n",
       "        vertical-align: top;\n",
       "    }\n",
       "\n",
       "    .dataframe thead th {\n",
       "        text-align: right;\n",
       "    }\n",
       "</style>\n",
       "<table border=\"1\" class=\"dataframe\">\n",
       "  <thead>\n",
       "    <tr style=\"text-align: right;\">\n",
       "      <th></th>\n",
       "      <th>NaptanCode</th>\n",
       "      <th>CommonName</th>\n",
       "      <th>Easting</th>\n",
       "      <th>Northing</th>\n",
       "      <th>geometry</th>\n",
       "    </tr>\n",
       "  </thead>\n",
       "  <tbody>\n",
       "    <tr>\n",
       "      <th>0</th>\n",
       "      <td>bstdpgj</td>\n",
       "      <td>Bedminster Road</td>\n",
       "      <td>359265</td>\n",
       "      <td>173143</td>\n",
       "      <td>POINT (359265.000 173143.000)</td>\n",
       "    </tr>\n",
       "    <tr>\n",
       "      <th>1</th>\n",
       "      <td>bstjdam</td>\n",
       "      <td>Henry St Green Street</td>\n",
       "      <td>359264</td>\n",
       "      <td>173142</td>\n",
       "      <td>POINT (359264.000 173142.000)</td>\n",
       "    </tr>\n",
       "    <tr>\n",
       "      <th>2</th>\n",
       "      <td>bstdjaj</td>\n",
       "      <td>Ilchester Crescent</td>\n",
       "      <td>359256</td>\n",
       "      <td>173152</td>\n",
       "      <td>POINT (359256.000 173152.000)</td>\n",
       "    </tr>\n",
       "    <tr>\n",
       "      <th>3</th>\n",
       "      <td>bstdjdp</td>\n",
       "      <td>Ilchester Crescent</td>\n",
       "      <td>359258</td>\n",
       "      <td>173145</td>\n",
       "      <td>POINT (359258.000 173145.000)</td>\n",
       "    </tr>\n",
       "    <tr>\n",
       "      <th>4</th>\n",
       "      <td>bstatmd</td>\n",
       "      <td>Swiss Road</td>\n",
       "      <td>359269</td>\n",
       "      <td>173135</td>\n",
       "      <td>POINT (359269.000 173135.000)</td>\n",
       "    </tr>\n",
       "  </tbody>\n",
       "</table>\n",
       "</div>"
      ],
      "text/plain": [
       "  NaptanCode             CommonName  Easting  Northing  \\\n",
       "0    bstdpgj        Bedminster Road   359265    173143   \n",
       "1    bstjdam  Henry St Green Street   359264    173142   \n",
       "2    bstdjaj     Ilchester Crescent   359256    173152   \n",
       "3    bstdjdp     Ilchester Crescent   359258    173145   \n",
       "4    bstatmd             Swiss Road   359269    173135   \n",
       "\n",
       "                        geometry  \n",
       "0  POINT (359265.000 173143.000)  \n",
       "1  POINT (359264.000 173142.000)  \n",
       "2  POINT (359256.000 173152.000)  \n",
       "3  POINT (359258.000 173145.000)  \n",
       "4  POINT (359269.000 173135.000)  "
      ]
     },
     "execution_count": 49,
     "metadata": {},
     "output_type": "execute_result"
    }
   ],
   "source": [
    "stops_geo_df.head()"
   ]
  },
  {
   "cell_type": "code",
   "execution_count": 50,
   "metadata": {},
   "outputs": [
    {
     "data": {
      "text/html": [
       "<div>\n",
       "<style scoped>\n",
       "    .dataframe tbody tr th:only-of-type {\n",
       "        vertical-align: middle;\n",
       "    }\n",
       "\n",
       "    .dataframe tbody tr th {\n",
       "        vertical-align: top;\n",
       "    }\n",
       "\n",
       "    .dataframe thead th {\n",
       "        text-align: right;\n",
       "    }\n",
       "</style>\n",
       "<table border=\"1\" class=\"dataframe\">\n",
       "  <thead>\n",
       "    <tr style=\"text-align: right;\">\n",
       "      <th></th>\n",
       "      <th>geometry</th>\n",
       "    </tr>\n",
       "    <tr>\n",
       "      <th>place_name</th>\n",
       "      <th></th>\n",
       "    </tr>\n",
       "  </thead>\n",
       "  <tbody>\n",
       "    <tr>\n",
       "      <th>Birmingham</th>\n",
       "      <td>POLYGON ((405940.897 278844.452, 405969.012 27...</td>\n",
       "    </tr>\n",
       "  </tbody>\n",
       "</table>\n",
       "</div>"
      ],
      "text/plain": [
       "                                                     geometry\n",
       "place_name                                                   \n",
       "Birmingham  POLYGON ((405940.897 278844.452, 405969.012 27..."
      ]
     },
     "execution_count": 50,
     "metadata": {},
     "output_type": "execute_result"
    }
   ],
   "source": [
    "just_birmingham_poly"
   ]
  },
  {
   "cell_type": "code",
   "execution_count": 51,
   "metadata": {},
   "outputs": [],
   "source": [
    "birmingham_stops_geo_df = (find_points_in_poly\n",
    "                           (geo_df=stops_geo_df,\n",
    "                            polygon_obj=just_birmingham_poly))"
   ]
  },
  {
   "cell_type": "code",
   "execution_count": 52,
   "metadata": {},
   "outputs": [
    {
     "data": {
      "text/html": [
       "<div>\n",
       "<style scoped>\n",
       "    .dataframe tbody tr th:only-of-type {\n",
       "        vertical-align: middle;\n",
       "    }\n",
       "\n",
       "    .dataframe tbody tr th {\n",
       "        vertical-align: top;\n",
       "    }\n",
       "\n",
       "    .dataframe thead th {\n",
       "        text-align: right;\n",
       "    }\n",
       "</style>\n",
       "<table border=\"1\" class=\"dataframe\">\n",
       "  <thead>\n",
       "    <tr style=\"text-align: right;\">\n",
       "      <th></th>\n",
       "      <th>NaptanCode</th>\n",
       "      <th>CommonName</th>\n",
       "      <th>Easting</th>\n",
       "      <th>Northing</th>\n",
       "      <th>geometry</th>\n",
       "    </tr>\n",
       "  </thead>\n",
       "  <tbody>\n",
       "    <tr>\n",
       "      <th>0</th>\n",
       "      <td>bstdpgj</td>\n",
       "      <td>Bedminster Road</td>\n",
       "      <td>359265</td>\n",
       "      <td>173143</td>\n",
       "      <td>POINT (359265.000 173143.000)</td>\n",
       "    </tr>\n",
       "    <tr>\n",
       "      <th>1</th>\n",
       "      <td>bstjdam</td>\n",
       "      <td>Henry St Green Street</td>\n",
       "      <td>359264</td>\n",
       "      <td>173142</td>\n",
       "      <td>POINT (359264.000 173142.000)</td>\n",
       "    </tr>\n",
       "    <tr>\n",
       "      <th>2</th>\n",
       "      <td>bstdjaj</td>\n",
       "      <td>Ilchester Crescent</td>\n",
       "      <td>359256</td>\n",
       "      <td>173152</td>\n",
       "      <td>POINT (359256.000 173152.000)</td>\n",
       "    </tr>\n",
       "    <tr>\n",
       "      <th>3</th>\n",
       "      <td>bstdjdp</td>\n",
       "      <td>Ilchester Crescent</td>\n",
       "      <td>359258</td>\n",
       "      <td>173145</td>\n",
       "      <td>POINT (359258.000 173145.000)</td>\n",
       "    </tr>\n",
       "    <tr>\n",
       "      <th>4</th>\n",
       "      <td>bstatmd</td>\n",
       "      <td>Swiss Road</td>\n",
       "      <td>359269</td>\n",
       "      <td>173135</td>\n",
       "      <td>POINT (359269.000 173135.000)</td>\n",
       "    </tr>\n",
       "  </tbody>\n",
       "</table>\n",
       "</div>"
      ],
      "text/plain": [
       "  NaptanCode             CommonName  Easting  Northing  \\\n",
       "0    bstdpgj        Bedminster Road   359265    173143   \n",
       "1    bstjdam  Henry St Green Street   359264    173142   \n",
       "2    bstdjaj     Ilchester Crescent   359256    173152   \n",
       "3    bstdjdp     Ilchester Crescent   359258    173145   \n",
       "4    bstatmd             Swiss Road   359269    173135   \n",
       "\n",
       "                        geometry  \n",
       "0  POINT (359265.000 173143.000)  \n",
       "1  POINT (359264.000 173142.000)  \n",
       "2  POINT (359256.000 173152.000)  \n",
       "3  POINT (359258.000 173145.000)  \n",
       "4  POINT (359269.000 173135.000)  "
      ]
     },
     "execution_count": 52,
     "metadata": {},
     "output_type": "execute_result"
    }
   ],
   "source": [
    "stops_geo_df.head()"
   ]
  },
  {
   "cell_type": "code",
   "execution_count": 53,
   "metadata": {},
   "outputs": [
    {
     "data": {
      "text/html": [
       "<div>\n",
       "<style scoped>\n",
       "    .dataframe tbody tr th:only-of-type {\n",
       "        vertical-align: middle;\n",
       "    }\n",
       "\n",
       "    .dataframe tbody tr th {\n",
       "        vertical-align: top;\n",
       "    }\n",
       "\n",
       "    .dataframe thead th {\n",
       "        text-align: right;\n",
       "    }\n",
       "</style>\n",
       "<table border=\"1\" class=\"dataframe\">\n",
       "  <thead>\n",
       "    <tr style=\"text-align: right;\">\n",
       "      <th></th>\n",
       "      <th>geometry</th>\n",
       "    </tr>\n",
       "    <tr>\n",
       "      <th>place_name</th>\n",
       "      <th></th>\n",
       "    </tr>\n",
       "  </thead>\n",
       "  <tbody>\n",
       "    <tr>\n",
       "      <th>Birmingham</th>\n",
       "      <td>POLYGON ((405940.897 278844.452, 405969.012 27...</td>\n",
       "    </tr>\n",
       "  </tbody>\n",
       "</table>\n",
       "</div>"
      ],
      "text/plain": [
       "                                                     geometry\n",
       "place_name                                                   \n",
       "Birmingham  POLYGON ((405940.897 278844.452, 405969.012 27..."
      ]
     },
     "execution_count": 53,
     "metadata": {},
     "output_type": "execute_result"
    }
   ],
   "source": [
    "just_birmingham_poly"
   ]
  },
  {
   "cell_type": "code",
   "execution_count": 61,
   "metadata": {},
   "outputs": [
    {
     "data": {
      "text/html": [
       "<div>\n",
       "<style scoped>\n",
       "    .dataframe tbody tr th:only-of-type {\n",
       "        vertical-align: middle;\n",
       "    }\n",
       "\n",
       "    .dataframe tbody tr th {\n",
       "        vertical-align: top;\n",
       "    }\n",
       "\n",
       "    .dataframe thead th {\n",
       "        text-align: right;\n",
       "    }\n",
       "</style>\n",
       "<table border=\"1\" class=\"dataframe\">\n",
       "  <thead>\n",
       "    <tr style=\"text-align: right;\">\n",
       "      <th></th>\n",
       "      <th>NaptanCode</th>\n",
       "      <th>CommonName</th>\n",
       "      <th>Easting</th>\n",
       "      <th>Northing</th>\n",
       "      <th>geometry</th>\n",
       "      <th>place</th>\n",
       "    </tr>\n",
       "  </thead>\n",
       "  <tbody>\n",
       "    <tr>\n",
       "      <th>133809</th>\n",
       "      <td>wocdjdam</td>\n",
       "      <td>Groveley Lane- Chestnut Drive</td>\n",
       "      <td>400503</td>\n",
       "      <td>275966</td>\n",
       "      <td>POLYGON ((400504.499 275966.049, 400504.499 27...</td>\n",
       "      <td>Birmingham</td>\n",
       "    </tr>\n",
       "    <tr>\n",
       "      <th>133932</th>\n",
       "      <td>wocdgwmt</td>\n",
       "      <td>Grovely Corner-</td>\n",
       "      <td>403083</td>\n",
       "      <td>277083</td>\n",
       "      <td>POLYGON ((403084.499 277083.049, 403084.499 27...</td>\n",
       "      <td>Birmingham</td>\n",
       "    </tr>\n",
       "    <tr>\n",
       "      <th>135404</th>\n",
       "      <td>wocdtmdw</td>\n",
       "      <td>Edenhurst Road</td>\n",
       "      <td>401532</td>\n",
       "      <td>276681</td>\n",
       "      <td>POLYGON ((401533.499 276681.049, 401533.499 27...</td>\n",
       "      <td>Birmingham</td>\n",
       "    </tr>\n",
       "    <tr>\n",
       "      <th>136947</th>\n",
       "      <td>wocgmpwt</td>\n",
       "      <td>Longbridge- Groveley Lane- Coombs Lane</td>\n",
       "      <td>401662</td>\n",
       "      <td>276707</td>\n",
       "      <td>POLYGON ((401663.499 276707.049, 401663.499 27...</td>\n",
       "      <td>Birmingham</td>\n",
       "    </tr>\n",
       "    <tr>\n",
       "      <th>136948</th>\n",
       "      <td>wocgmtad</td>\n",
       "      <td>Longbridge- Groveley Lane- Coombs Lane</td>\n",
       "      <td>401689</td>\n",
       "      <td>276794</td>\n",
       "      <td>POLYGON ((401690.499 276794.049, 401690.499 27...</td>\n",
       "      <td>Birmingham</td>\n",
       "    </tr>\n",
       "  </tbody>\n",
       "</table>\n",
       "</div>"
      ],
      "text/plain": [
       "       NaptanCode                              CommonName  Easting  Northing  \\\n",
       "133809   wocdjdam           Groveley Lane- Chestnut Drive   400503    275966   \n",
       "133932   wocdgwmt                         Grovely Corner-   403083    277083   \n",
       "135404   wocdtmdw                          Edenhurst Road   401532    276681   \n",
       "136947   wocgmpwt  Longbridge- Groveley Lane- Coombs Lane   401662    276707   \n",
       "136948   wocgmtad  Longbridge- Groveley Lane- Coombs Lane   401689    276794   \n",
       "\n",
       "                                                 geometry       place  \n",
       "133809  POLYGON ((400504.499 275966.049, 400504.499 27...  Birmingham  \n",
       "133932  POLYGON ((403084.499 277083.049, 403084.499 27...  Birmingham  \n",
       "135404  POLYGON ((401533.499 276681.049, 401533.499 27...  Birmingham  \n",
       "136947  POLYGON ((401663.499 276707.049, 401663.499 27...  Birmingham  \n",
       "136948  POLYGON ((401690.499 276794.049, 401690.499 27...  Birmingham  "
      ]
     },
     "execution_count": 61,
     "metadata": {},
     "output_type": "execute_result"
    }
   ],
   "source": [
    "birmingham_stops_geo_df.head()"
   ]
  },
  {
   "cell_type": "code",
   "execution_count": null,
   "metadata": {},
   "outputs": [],
   "source": []
  }
 ],
 "metadata": {
  "kernelspec": {
   "display_name": "Python 3",
   "language": "python",
   "name": "python3"
  },
  "language_info": {
   "codemirror_mode": {
    "name": "ipython",
    "version": 3
   },
   "file_extension": ".py",
   "mimetype": "text/x-python",
   "name": "python",
   "nbconvert_exporter": "python",
   "pygments_lexer": "ipython3",
   "version": "3.8.6"
  }
 },
 "nbformat": 4,
 "nbformat_minor": 4
}
